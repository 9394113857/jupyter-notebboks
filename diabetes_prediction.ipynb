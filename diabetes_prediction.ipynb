{
  "cells": [
    {
      "cell_type": "code",
      "execution_count": null,
      "metadata": {
        "colab": {
          "background_save": true,
          "base_uri": "https://localhost:8080/"
        },
        "id": "PKHuWfh9-zJo",
        "outputId": "ce88da24-dff7-4b87-da8d-b8b9b2e2a2ee"
      },
      "outputs": [
        {
          "ename": "FileNotFoundError",
          "evalue": "ignored",
          "output_type": "error",
          "traceback": [
            "\u001b[0;31m---------------------------------------------------------------------------\u001b[0m",
            "\u001b[0;31mFileNotFoundError\u001b[0m                         Traceback (most recent call last)",
            "\u001b[0;32m<ipython-input-1-dec00d5db258>\u001b[0m in \u001b[0;36m<cell line: 7>\u001b[0;34m()\u001b[0m\n\u001b[1;32m      5\u001b[0m \u001b[0;31m# Load the dumped model\u001b[0m\u001b[0;34m\u001b[0m\u001b[0;34m\u001b[0m\u001b[0m\n\u001b[1;32m      6\u001b[0m \u001b[0mfilename\u001b[0m \u001b[0;34m=\u001b[0m \u001b[0;34m'diabetes-prediction-rfc-model.pkl'\u001b[0m\u001b[0;34m\u001b[0m\u001b[0;34m\u001b[0m\u001b[0m\n\u001b[0;32m----> 7\u001b[0;31m \u001b[0mloaded_model\u001b[0m \u001b[0;34m=\u001b[0m \u001b[0mpickle\u001b[0m\u001b[0;34m.\u001b[0m\u001b[0mload\u001b[0m\u001b[0;34m(\u001b[0m\u001b[0mopen\u001b[0m\u001b[0;34m(\u001b[0m\u001b[0mfilename\u001b[0m\u001b[0;34m,\u001b[0m \u001b[0;34m'rb'\u001b[0m\u001b[0;34m)\u001b[0m\u001b[0;34m)\u001b[0m\u001b[0;34m\u001b[0m\u001b[0;34m\u001b[0m\u001b[0m\n\u001b[0m\u001b[1;32m      8\u001b[0m \u001b[0;34m\u001b[0m\u001b[0m\n\u001b[1;32m      9\u001b[0m \u001b[0;31m# Take user input\u001b[0m\u001b[0;34m\u001b[0m\u001b[0;34m\u001b[0m\u001b[0m\n",
            "\u001b[0;31mFileNotFoundError\u001b[0m: [Errno 2] No such file or directory: 'diabetes-prediction-rfc-model.pkl'"
          ]
        }
      ],
      "source": [
        "import numpy as np\n",
        "import pandas as pd\n",
        "import pickle\n",
        "\n",
        "# Load the dumped model\n",
        "filename = 'diabetes-prediction-rfc-model.pkl'\n",
        "loaded_model = pickle.load(open(filename, 'rb'))\n",
        "\n",
        "# Take user input\n",
        "user_input = []\n",
        "pregnancies = int(input(\"Number of pregnancies: \"))\n",
        "user_input.append(pregnancies)\n",
        "glucose = int(input(\"Glucose level: \"))\n",
        "user_input.append(glucose)\n",
        "blood_pressure = int(input(\"Blood pressure: \"))\n",
        "user_input.append(blood_pressure)\n",
        "skin_thickness = int(input(\"Skin thickness: \"))\n",
        "user_input.append(skin_thickness)\n",
        "insulin = int(input(\"Insulin level: \"))\n",
        "user_input.append(insulin)\n",
        "bmi = float(input(\"BMI: \"))\n",
        "user_input.append(bmi)\n",
        "dpf = float(input(\"Diabetes pedigree function: \"))\n",
        "user_input.append(dpf)\n",
        "age = int(input(\"Age: \"))\n",
        "user_input.append(age)\n",
        "\n",
        "# Create a DataFrame from user input\n",
        "input_df = pd.DataFrame([user_input], columns=['Pregnancies', 'Glucose', 'BloodPressure',\n",
        "                                               'SkinThickness', 'Insulin', 'BMI', 'DPF', 'Age'])\n",
        "\n",
        "# Make predictions\n",
        "prediction = loaded_model.predict(input_df)\n",
        "\n",
        "# Display the prediction\n",
        "if prediction[0] == 0:\n",
        "    print(\"The person is not diabetic.\")\n",
        "else:\n",
        "    print(\"The person is diabetic.\")\n"
      ]
    },
    {
      "cell_type": "markdown",
      "metadata": {
        "id": "UJGzt-jCBzpo"
      },
      "source": [
        "Number of pregnancies: 5\n",
        "\n",
        "Glucose level: 120\n",
        "\n",
        "Blood pressure: 80\n",
        "\n",
        "Skin thickness: 30\n",
        "\n",
        "Insulin level: 150\n",
        "\n",
        "BMI: 25.5\n",
        "\n",
        "Diabetes pedigree function: 0.4\n",
        "\n",
        "Age: 35\n",
        "\n",
        "The person is not diabetic."
      ]
    },
    {
      "cell_type": "markdown",
      "metadata": {
        "id": "Zq-wyztiCKVd"
      },
      "source": [
        "Number of pregnancies: 8\n",
        "\n",
        "Glucose level: 180\n",
        "\n",
        "Blood pressure: 90\n",
        "\n",
        "Skin thickness: 35\n",
        "\n",
        "Insulin level: 250\n",
        "\n",
        "BMI: 32.5\n",
        "\n",
        "Diabetes pedigree function: 0.6\n",
        "\n",
        "Age: 45\n",
        "\n",
        "The person is diabetic."
      ]
    },
    {
      "cell_type": "markdown",
      "metadata": {
        "id": "KEZhFp7WCbdJ"
      },
      "source": []
    },
    {
      "cell_type": "code",
      "execution_count": null,
      "metadata": {
        "id": "uQWKiHGQARgw"
      },
      "outputs": [],
      "source": []
    },
    {
      "cell_type": "code",
      "execution_count": null,
      "metadata": {
        "id": "2Q2058MZAbew"
      },
      "outputs": [],
      "source": []
    }
  ],
  "metadata": {
    "colab": {
      "provenance": []
    },
    "kernelspec": {
      "display_name": "Python 3",
      "name": "python3"
    },
    "language_info": {
      "name": "python"
    }
  },
  "nbformat": 4,
  "nbformat_minor": 0
}