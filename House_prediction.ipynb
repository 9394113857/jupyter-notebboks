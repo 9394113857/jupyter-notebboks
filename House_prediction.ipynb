{
  "nbformat": 4,
  "nbformat_minor": 0,
  "metadata": {
    "colab": {
      "provenance": []
    },
    "kernelspec": {
      "name": "python3",
      "display_name": "Python 3"
    },
    "language_info": {
      "name": "python"
    }
  },
  "cells": [
    {
      "cell_type": "code",
      "execution_count": null,
      "metadata": {
        "id": "S0E29Rd-Qnmw"
      },
      "outputs": [],
      "source": [
        "# import the pickle\n",
        "import pickle\n",
        "\n",
        "# loading the model\n",
        "loaded_linear_regression_model = pickle.load(open(\"House_Price_LinearRegression.pkl\", \"rb\"))"
      ]
    },
    {
      "cell_type": "code",
      "source": [
        "area = float(input(\"Please Enter Area Sq ft: \"))\n",
        "prediction_value = loaded_linear_regression_model.predict([[area]])\n",
        "formatted_prediction = \"{:,}\".format(int(prediction_value))\n",
        "\n",
        "print(\"The Price Amount is: \\033[1m{}\\033[0m Rupees\".format(formatted_prediction))\n"
      ],
      "metadata": {
        "colab": {
          "base_uri": "https://localhost:8080/"
        },
        "id": "rx9lP2viQxLk",
        "outputId": "76b29b9f-f947-4909-d868-a87e107a46e5"
      },
      "execution_count": null,
      "outputs": [
        {
          "output_type": "stream",
          "name": "stdout",
          "text": [
            "Please Enter Area Sq ft: 900\n",
            "The Price Amount is: \u001b[1m1,350,000\u001b[0m Rupees\n"
          ]
        }
      ]
    },
    {
      "cell_type": "markdown",
      "source": [
        "1.In this code, the \"{:,}\".format() method is used to format the predicted value with commas for thousands separators.\n",
        "\n",
        "2.The \\033[1m{}\\033[0m syntax is used to highlight the formatted prediction value in bold.\n",
        "\n",
        "\n",
        "\n",
        "\n"
      ],
      "metadata": {
        "id": "nZS-PBnjRd6p"
      }
    },
    {
      "cell_type": "code",
      "source": [],
      "metadata": {
        "id": "bV42NevBQ4-I"
      },
      "execution_count": null,
      "outputs": []
    }
  ]
}