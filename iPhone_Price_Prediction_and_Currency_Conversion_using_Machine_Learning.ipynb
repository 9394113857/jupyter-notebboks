{
  "nbformat": 4,
  "nbformat_minor": 0,
  "metadata": {
    "colab": {
      "provenance": []
    },
    "kernelspec": {
      "name": "python3",
      "display_name": "Python 3"
    },
    "language_info": {
      "name": "python"
    }
  },
  "cells": [
    {
      "cell_type": "markdown",
      "source": [
        "# Predicting iPhone Prices using Linear Regression and Converting Prices to a Target Currency:\n",
        "\n",
        "1. The notebook aims to build a linear regression model to predict iPhone prices based on the iPhone version and then convert the predicted prices from USD to a target currency specified by the user.\n",
        "\n",
        "2. The model uses the historical data of iPhone prices to train and predict the prices of new versions.\n",
        "\n",
        "3. Additionally, it incorporates currency conversion using an exchange rate API to provide predicted prices in the user-specified currency.\n",
        "\n",
        "4. The goal is to help users estimate the prices of iPhones in their desired currency based on the version of the iPhone they are interested in."
      ],
      "metadata": {
        "id": "FluATkWEPVK-"
      }
    },
    {
      "cell_type": "markdown",
      "source": [
        "# Cell 1: Import the required libraries and suppress warnings"
      ],
      "metadata": {
        "id": "gxdInF6cURyy"
      }
    },
    {
      "cell_type": "code",
      "source": [
        "import warnings\n",
        "warnings.filterwarnings(\"ignore\")\n",
        "\n",
        "import pandas as pd\n",
        "import matplotlib.pyplot as plt\n",
        "import numpy as np\n",
        "import pickle\n",
        "import requests\n",
        "\n",
        "from sklearn.linear_model import LinearRegression, Ridge, Lasso\n",
        "from sklearn.tree import DecisionTreeRegressor\n",
        "from sklearn.ensemble import RandomForestRegressor\n",
        "from sklearn.model_selection import train_test_split, cross_val_score, GridSearchCV\n",
        "from sklearn.preprocessing import StandardScaler\n",
        "from sklearn.metrics import mean_squared_error, r2_score"
      ],
      "metadata": {
        "id": "fIAXawY-USdQ"
      },
      "execution_count": null,
      "outputs": []
    },
    {
      "cell_type": "markdown",
      "source": [
        "# Cell 2: Load the dataset and display the first few rows"
      ],
      "metadata": {
        "id": "4jjIouHyUXQS"
      }
    },
    {
      "cell_type": "code",
      "source": [
        "df = pd.read_csv('https://raw.githubusercontent.com/9394113857/Data-Sets/c45efacb19b01448b5a649a648a5469a37786f6b/iphone_price.csv')\n",
        "df.head()"
      ],
      "metadata": {
        "colab": {
          "base_uri": "https://localhost:8080/",
          "height": 206
        },
        "id": "d-8aiSzeUUGQ",
        "outputId": "65876cd3-8058-42a0-cdba-40aa1449c023"
      },
      "execution_count": null,
      "outputs": [
        {
          "output_type": "execute_result",
          "data": {
            "text/plain": [
              "   version  price\n",
              "0        1    499\n",
              "1        2    599\n",
              "2        3    599\n",
              "3        4    649\n",
              "4        5    649"
            ],
            "text/html": [
              "\n",
              "\n",
              "  <div id=\"df-9d853e3b-f1de-4e9b-b0a8-dd262981bedf\">\n",
              "    <div class=\"colab-df-container\">\n",
              "      <div>\n",
              "<style scoped>\n",
              "    .dataframe tbody tr th:only-of-type {\n",
              "        vertical-align: middle;\n",
              "    }\n",
              "\n",
              "    .dataframe tbody tr th {\n",
              "        vertical-align: top;\n",
              "    }\n",
              "\n",
              "    .dataframe thead th {\n",
              "        text-align: right;\n",
              "    }\n",
              "</style>\n",
              "<table border=\"1\" class=\"dataframe\">\n",
              "  <thead>\n",
              "    <tr style=\"text-align: right;\">\n",
              "      <th></th>\n",
              "      <th>version</th>\n",
              "      <th>price</th>\n",
              "    </tr>\n",
              "  </thead>\n",
              "  <tbody>\n",
              "    <tr>\n",
              "      <th>0</th>\n",
              "      <td>1</td>\n",
              "      <td>499</td>\n",
              "    </tr>\n",
              "    <tr>\n",
              "      <th>1</th>\n",
              "      <td>2</td>\n",
              "      <td>599</td>\n",
              "    </tr>\n",
              "    <tr>\n",
              "      <th>2</th>\n",
              "      <td>3</td>\n",
              "      <td>599</td>\n",
              "    </tr>\n",
              "    <tr>\n",
              "      <th>3</th>\n",
              "      <td>4</td>\n",
              "      <td>649</td>\n",
              "    </tr>\n",
              "    <tr>\n",
              "      <th>4</th>\n",
              "      <td>5</td>\n",
              "      <td>649</td>\n",
              "    </tr>\n",
              "  </tbody>\n",
              "</table>\n",
              "</div>\n",
              "      <button class=\"colab-df-convert\" onclick=\"convertToInteractive('df-9d853e3b-f1de-4e9b-b0a8-dd262981bedf')\"\n",
              "              title=\"Convert this dataframe to an interactive table.\"\n",
              "              style=\"display:none;\">\n",
              "\n",
              "  <svg xmlns=\"http://www.w3.org/2000/svg\" height=\"24px\"viewBox=\"0 0 24 24\"\n",
              "       width=\"24px\">\n",
              "    <path d=\"M0 0h24v24H0V0z\" fill=\"none\"/>\n",
              "    <path d=\"M18.56 5.44l.94 2.06.94-2.06 2.06-.94-2.06-.94-.94-2.06-.94 2.06-2.06.94zm-11 1L8.5 8.5l.94-2.06 2.06-.94-2.06-.94L8.5 2.5l-.94 2.06-2.06.94zm10 10l.94 2.06.94-2.06 2.06-.94-2.06-.94-.94-2.06-.94 2.06-2.06.94z\"/><path d=\"M17.41 7.96l-1.37-1.37c-.4-.4-.92-.59-1.43-.59-.52 0-1.04.2-1.43.59L10.3 9.45l-7.72 7.72c-.78.78-.78 2.05 0 2.83L4 21.41c.39.39.9.59 1.41.59.51 0 1.02-.2 1.41-.59l7.78-7.78 2.81-2.81c.8-.78.8-2.07 0-2.86zM5.41 20L4 18.59l7.72-7.72 1.47 1.35L5.41 20z\"/>\n",
              "  </svg>\n",
              "      </button>\n",
              "\n",
              "\n",
              "\n",
              "    <div id=\"df-0ebc7386-cc07-4529-8eda-08b139509f7c\">\n",
              "      <button class=\"colab-df-quickchart\" onclick=\"quickchart('df-0ebc7386-cc07-4529-8eda-08b139509f7c')\"\n",
              "              title=\"Suggest charts.\"\n",
              "              style=\"display:none;\">\n",
              "\n",
              "<svg xmlns=\"http://www.w3.org/2000/svg\" height=\"24px\"viewBox=\"0 0 24 24\"\n",
              "     width=\"24px\">\n",
              "    <g>\n",
              "        <path d=\"M19 3H5c-1.1 0-2 .9-2 2v14c0 1.1.9 2 2 2h14c1.1 0 2-.9 2-2V5c0-1.1-.9-2-2-2zM9 17H7v-7h2v7zm4 0h-2V7h2v10zm4 0h-2v-4h2v4z\"/>\n",
              "    </g>\n",
              "</svg>\n",
              "      </button>\n",
              "    </div>\n",
              "\n",
              "<style>\n",
              "  .colab-df-quickchart {\n",
              "    background-color: #E8F0FE;\n",
              "    border: none;\n",
              "    border-radius: 50%;\n",
              "    cursor: pointer;\n",
              "    display: none;\n",
              "    fill: #1967D2;\n",
              "    height: 32px;\n",
              "    padding: 0 0 0 0;\n",
              "    width: 32px;\n",
              "  }\n",
              "\n",
              "  .colab-df-quickchart:hover {\n",
              "    background-color: #E2EBFA;\n",
              "    box-shadow: 0px 1px 2px rgba(60, 64, 67, 0.3), 0px 1px 3px 1px rgba(60, 64, 67, 0.15);\n",
              "    fill: #174EA6;\n",
              "  }\n",
              "\n",
              "  [theme=dark] .colab-df-quickchart {\n",
              "    background-color: #3B4455;\n",
              "    fill: #D2E3FC;\n",
              "  }\n",
              "\n",
              "  [theme=dark] .colab-df-quickchart:hover {\n",
              "    background-color: #434B5C;\n",
              "    box-shadow: 0px 1px 3px 1px rgba(0, 0, 0, 0.15);\n",
              "    filter: drop-shadow(0px 1px 2px rgba(0, 0, 0, 0.3));\n",
              "    fill: #FFFFFF;\n",
              "  }\n",
              "</style>\n",
              "\n",
              "    <script>\n",
              "      async function quickchart(key) {\n",
              "        const containerElement = document.querySelector('#' + key);\n",
              "        const charts = await google.colab.kernel.invokeFunction(\n",
              "            'suggestCharts', [key], {});\n",
              "      }\n",
              "    </script>\n",
              "\n",
              "      <script>\n",
              "\n",
              "function displayQuickchartButton(domScope) {\n",
              "  let quickchartButtonEl =\n",
              "    domScope.querySelector('#df-0ebc7386-cc07-4529-8eda-08b139509f7c button.colab-df-quickchart');\n",
              "  quickchartButtonEl.style.display =\n",
              "    google.colab.kernel.accessAllowed ? 'block' : 'none';\n",
              "}\n",
              "\n",
              "        displayQuickchartButton(document);\n",
              "      </script>\n",
              "      <style>\n",
              "    .colab-df-container {\n",
              "      display:flex;\n",
              "      flex-wrap:wrap;\n",
              "      gap: 12px;\n",
              "    }\n",
              "\n",
              "    .colab-df-convert {\n",
              "      background-color: #E8F0FE;\n",
              "      border: none;\n",
              "      border-radius: 50%;\n",
              "      cursor: pointer;\n",
              "      display: none;\n",
              "      fill: #1967D2;\n",
              "      height: 32px;\n",
              "      padding: 0 0 0 0;\n",
              "      width: 32px;\n",
              "    }\n",
              "\n",
              "    .colab-df-convert:hover {\n",
              "      background-color: #E2EBFA;\n",
              "      box-shadow: 0px 1px 2px rgba(60, 64, 67, 0.3), 0px 1px 3px 1px rgba(60, 64, 67, 0.15);\n",
              "      fill: #174EA6;\n",
              "    }\n",
              "\n",
              "    [theme=dark] .colab-df-convert {\n",
              "      background-color: #3B4455;\n",
              "      fill: #D2E3FC;\n",
              "    }\n",
              "\n",
              "    [theme=dark] .colab-df-convert:hover {\n",
              "      background-color: #434B5C;\n",
              "      box-shadow: 0px 1px 3px 1px rgba(0, 0, 0, 0.15);\n",
              "      filter: drop-shadow(0px 1px 2px rgba(0, 0, 0, 0.3));\n",
              "      fill: #FFFFFF;\n",
              "    }\n",
              "  </style>\n",
              "\n",
              "      <script>\n",
              "        const buttonEl =\n",
              "          document.querySelector('#df-9d853e3b-f1de-4e9b-b0a8-dd262981bedf button.colab-df-convert');\n",
              "        buttonEl.style.display =\n",
              "          google.colab.kernel.accessAllowed ? 'block' : 'none';\n",
              "\n",
              "        async function convertToInteractive(key) {\n",
              "          const element = document.querySelector('#df-9d853e3b-f1de-4e9b-b0a8-dd262981bedf');\n",
              "          const dataTable =\n",
              "            await google.colab.kernel.invokeFunction('convertToInteractive',\n",
              "                                                     [key], {});\n",
              "          if (!dataTable) return;\n",
              "\n",
              "          const docLinkHtml = 'Like what you see? Visit the ' +\n",
              "            '<a target=\"_blank\" href=https://colab.research.google.com/notebooks/data_table.ipynb>data table notebook</a>'\n",
              "            + ' to learn more about interactive tables.';\n",
              "          element.innerHTML = '';\n",
              "          dataTable['output_type'] = 'display_data';\n",
              "          await google.colab.output.renderOutput(dataTable, element);\n",
              "          const docLink = document.createElement('div');\n",
              "          docLink.innerHTML = docLinkHtml;\n",
              "          element.appendChild(docLink);\n",
              "        }\n",
              "      </script>\n",
              "    </div>\n",
              "  </div>\n"
            ]
          },
          "metadata": {},
          "execution_count": 2
        }
      ]
    },
    {
      "cell_type": "code",
      "source": [],
      "metadata": {
        "id": "4fcUwggaUZ_K"
      },
      "execution_count": null,
      "outputs": []
    },
    {
      "cell_type": "markdown",
      "source": [
        "# Cell 3: Data Preprocessing"
      ],
      "metadata": {
        "id": "Xp4gZqyoUc8O"
      }
    },
    {
      "cell_type": "code",
      "source": [
        "# Handle missing values\n",
        "df.dropna(inplace=True)\n",
        "\n",
        "# Split the data into features (x) and target (y)\n",
        "x = df['version'].values.reshape(-1, 1)\n",
        "y = df['price'].values.reshape(-1, 1)\n",
        "\n",
        "# Scale features using StandardScaler\n",
        "scaler = StandardScaler()\n",
        "x_scaled = scaler.fit_transform(x)"
      ],
      "metadata": {
        "id": "JaG5SCXtUdjY"
      },
      "execution_count": null,
      "outputs": []
    },
    {
      "cell_type": "code",
      "source": [
        "x_scaled"
      ],
      "metadata": {
        "id": "A8UWLAJAUf9_",
        "colab": {
          "base_uri": "https://localhost:8080/"
        },
        "outputId": "103024ed-7c3b-4bf2-aa9b-e51e7d4a8e46"
      },
      "execution_count": null,
      "outputs": [
        {
          "output_type": "execute_result",
          "data": {
            "text/plain": [
              "array([[-1.59325501],\n",
              "       [-1.30357228],\n",
              "       [-1.01388955],\n",
              "       [-0.72420682],\n",
              "       [-0.43452409],\n",
              "       [-0.14484136],\n",
              "       [ 0.14484136],\n",
              "       [ 0.43452409],\n",
              "       [ 0.72420682],\n",
              "       [ 1.01388955],\n",
              "       [ 1.30357228],\n",
              "       [ 1.59325501]])"
            ]
          },
          "metadata": {},
          "execution_count": 4
        }
      ]
    },
    {
      "cell_type": "markdown",
      "source": [
        "# Cell 4: Exploratory Data Analysis (EDA)"
      ],
      "metadata": {
        "id": "nB9j0Gm3UilP"
      }
    },
    {
      "cell_type": "code",
      "source": [
        "import seaborn as sns\n",
        "\n",
        "# Pairplot to visualize the relationship between variables\n",
        "sns.pairplot(df, x_vars=['version'], y_vars=['price'], kind='scatter')\n",
        "\n",
        "# Heatmap to visualize correlations\n",
        "sns.heatmap(df.corr(), annot=True, cmap='coolwarm')"
      ],
      "metadata": {
        "colab": {
          "base_uri": "https://localhost:8080/",
          "height": 271
        },
        "id": "OVhhqh3TUjSG",
        "outputId": "a1cf600e-d629-4701-b7cb-9286fcce8fc7"
      },
      "execution_count": null,
      "outputs": [
        {
          "output_type": "execute_result",
          "data": {
            "text/plain": [
              "<Axes: >"
            ]
          },
          "metadata": {},
          "execution_count": 5
        },
        {
          "output_type": "display_data",
          "data": {
            "text/plain": [
              "<Figure size 250x250 with 2 Axes>"
            ],
            "image/png": "[encoded data removed]"
          },
          "metadata": {}
        }
      ]
    },
    {
      "cell_type": "code",
      "source": [],
      "metadata": {
        "id": "OUoTHAzyUrPl"
      },
      "execution_count": null,
      "outputs": []
    },
    {
      "cell_type": "markdown",
      "source": [
        "# Cell 5: Train-test split"
      ],
      "metadata": {
        "id": "9XPmH0_bUxty"
      }
    },
    {
      "cell_type": "code",
      "source": [
        "x_train, x_test, y_train, y_test = train_test_split(x_scaled, y, test_size=0.2, random_state=42)"
      ],
      "metadata": {
        "id": "oqW8OGgxUyVd"
      },
      "execution_count": null,
      "outputs": []
    },
    {
      "cell_type": "markdown",
      "source": [
        "# Cell 6: Model Selection and Hyperparameter Tuning"
      ],
      "metadata": {
        "id": "Esmt1rA3U2Ah"
      }
    },
    {
      "cell_type": "code",
      "source": [
        "models = [\n",
        "    ('Linear Regression', LinearRegression(), {}),\n",
        "    ('Ridge Regression', Ridge(), {'alpha': [0.1, 1.0, 10.0]}),\n",
        "    ('Lasso Regression', Lasso(), {'alpha': [0.1, 1.0, 10.0]}),\n",
        "    ('Decision Tree', DecisionTreeRegressor(), {'max_depth': [None, 10, 20]}),\n",
        "    ('Random Forest', RandomForestRegressor(), {'n_estimators': [50, 100, 150], 'max_depth': [None, 10, 20]})\n",
        "]\n",
        "\n",
        "best_model = None\n",
        "best_model_name = \"\"\n",
        "best_score = float('-inf')\n",
        "\n",
        "for name, model, param_grid in models:\n",
        "    grid_search = GridSearchCV(model, param_grid, cv=5, scoring='neg_mean_squared_error')\n",
        "    grid_search.fit(x_train, y_train)\n",
        "\n",
        "    score = grid_search.best_score_\n",
        "    if score > best_score:\n",
        "        best_score = score\n",
        "        best_model = grid_search.best_estimator_\n",
        "        best_model_name = name\n",
        "\n",
        "    print(f\"{name}: Best Parameters - {grid_search.best_params_}, Best Score - {score}\")\n",
        "\n",
        "print()\n",
        "print(\"=================\")\n",
        "print(f\"Best Model: {best_model_name}, Best Score: {best_score}\")"
      ],
      "metadata": {
        "colab": {
          "base_uri": "https://localhost:8080/"
        },
        "id": "g1pxjdkUU2n8",
        "outputId": "34ded718-62f0-4ddd-d183-0cb5b545cfef"
      },
      "execution_count": null,
      "outputs": [
        {
          "output_type": "stream",
          "name": "stdout",
          "text": [
            "Linear Regression: Best Parameters - {}, Best Score - -26464.51226874625\n",
            "Ridge Regression: Best Parameters - {'alpha': 1.0}, Best Score - -25175.284912510386\n",
            "Lasso Regression: Best Parameters - {'alpha': 0.1}, Best Score - -26467.641235422703\n",
            "Decision Tree: Best Parameters - {'max_depth': None}, Best Score - -25370.0\n",
            "Random Forest: Best Parameters - {'max_depth': 10, 'n_estimators': 100}, Best Score - -26371.074000000004\n",
            "\n",
            "=================\n",
            "Best Model: Ridge Regression, Best Score: -25175.284912510386\n"
          ]
        }
      ]
    },
    {
      "cell_type": "code",
      "source": [],
      "metadata": {
        "id": "7PKzLjSxU3wX"
      },
      "execution_count": null,
      "outputs": []
    },
    {
      "cell_type": "markdown",
      "source": [
        "# Cell 7: Fit the best model"
      ],
      "metadata": {
        "id": "qC07EKFZVLFB"
      }
    },
    {
      "cell_type": "code",
      "source": [
        "best_model.fit(x_train, y_train)"
      ],
      "metadata": {
        "colab": {
          "base_uri": "https://localhost:8080/",
          "height": 75
        },
        "id": "3Xlx7iYAVMW7",
        "outputId": "cf72abe9-4756-457e-a1c0-1bc27d58ba23"
      },
      "execution_count": null,
      "outputs": [
        {
          "output_type": "execute_result",
          "data": {
            "text/plain": [
              "Ridge()"
            ],
            "text/html": [
              "<style>#sk-container-id-1 {color: black;background-color: white;}#sk-container-id-1 pre{padding: 0;}#sk-container-id-1 div.sk-toggleable {background-color: white;}#sk-container-id-1 label.sk-toggleable__label {cursor: pointer;display: block;width: 100%;margin-bottom: 0;padding: 0.3em;box-sizing: border-box;text-align: center;}#sk-container-id-1 label.sk-toggleable__label-arrow:before {content: \"▸\";float: left;margin-right: 0.25em;color: #696969;}#sk-container-id-1 label.sk-toggleable__label-arrow:hover:before {color: black;}#sk-container-id-1 div.sk-estimator:hover label.sk-toggleable__label-arrow:before {color: black;}#sk-container-id-1 div.sk-toggleable__content {max-height: 0;max-width: 0;overflow: hidden;text-align: left;background-color: #f0f8ff;}#sk-container-id-1 div.sk-toggleable__content pre {margin: 0.2em;color: black;border-radius: 0.25em;background-color: #f0f8ff;}#sk-container-id-1 input.sk-toggleable__control:checked~div.sk-toggleable__content {max-height: 200px;max-width: 100%;overflow: auto;}#sk-container-id-1 input.sk-toggleable__control:checked~label.sk-toggleable__label-arrow:before {content: \"▾\";}#sk-container-id-1 div.sk-estimator input.sk-toggleable__control:checked~label.sk-toggleable__label {background-color: #d4ebff;}#sk-container-id-1 div.sk-label input.sk-toggleable__control:checked~label.sk-toggleable__label {background-color: #d4ebff;}#sk-container-id-1 input.sk-hidden--visually {border: 0;clip: rect(1px 1px 1px 1px);clip: rect(1px, 1px, 1px, 1px);height: 1px;margin: -1px;overflow: hidden;padding: 0;position: absolute;width: 1px;}#sk-container-id-1 div.sk-estimator {font-family: monospace;background-color: #f0f8ff;border: 1px dotted black;border-radius: 0.25em;box-sizing: border-box;margin-bottom: 0.5em;}#sk-container-id-1 div.sk-estimator:hover {background-color: #d4ebff;}#sk-container-id-1 div.sk-parallel-item::after {content: \"\";width: 100%;border-bottom: 1px solid gray;flex-grow: 1;}#sk-container-id-1 div.sk-label:hover label.sk-toggleable__label {background-color: #d4ebff;}#sk-container-id-1 div.sk-serial::before {content: \"\";position: absolute;border-left: 1px solid gray;box-sizing: border-box;top: 0;bottom: 0;left: 50%;z-index: 0;}#sk-container-id-1 div.sk-serial {display: flex;flex-direction: column;align-items: center;background-color: white;padding-right: 0.2em;padding-left: 0.2em;position: relative;}#sk-container-id-1 div.sk-item {position: relative;z-index: 1;}#sk-container-id-1 div.sk-parallel {display: flex;align-items: stretch;justify-content: center;background-color: white;position: relative;}#sk-container-id-1 div.sk-item::before, #sk-container-id-1 div.sk-parallel-item::before {content: \"\";position: absolute;border-left: 1px solid gray;box-sizing: border-box;top: 0;bottom: 0;left: 50%;z-index: -1;}#sk-container-id-1 div.sk-parallel-item {display: flex;flex-direction: column;z-index: 1;position: relative;background-color: white;}#sk-container-id-1 div.sk-parallel-item:first-child::after {align-self: flex-end;width: 50%;}#sk-container-id-1 div.sk-parallel-item:last-child::after {align-self: flex-start;width: 50%;}#sk-container-id-1 div.sk-parallel-item:only-child::after {width: 0;}#sk-container-id-1 div.sk-dashed-wrapped {border: 1px dashed gray;margin: 0 0.4em 0.5em 0.4em;box-sizing: border-box;padding-bottom: 0.4em;background-color: white;}#sk-container-id-1 div.sk-label label {font-family: monospace;font-weight: bold;display: inline-block;line-height: 1.2em;}#sk-container-id-1 div.sk-label-container {text-align: center;}#sk-container-id-1 div.sk-container {/* jupyter's `normalize.less` sets `[hidden] { display: none; }` but bootstrap.min.css set `[hidden] { display: none !important; }` so we also need the `!important` here to be able to override the default hidden behavior on the sphinx rendered scikit-learn.org. See: https://github.com/scikit-learn/scikit-learn/issues/21755 */display: inline-block !important;position: relative;}#sk-container-id-1 div.sk-text-repr-fallback {display: none;}</style><div id=\"sk-container-id-1\" class=\"sk-top-container\"><div class=\"sk-text-repr-fallback\"><pre>Ridge()</pre><b>In a Jupyter environment, please rerun this cell to show the HTML representation or trust the notebook. <br />On GitHub, the HTML representation is unable to render, please try loading this page with nbviewer.org.</b></div><div class=\"sk-container\" hidden><div class=\"sk-item\"><div class=\"sk-estimator sk-toggleable\"><input class=\"sk-toggleable__control sk-hidden--visually\" id=\"sk-estimator-id-1\" type=\"checkbox\" checked><label for=\"sk-estimator-id-1\" class=\"sk-toggleable__label sk-toggleable__label-arrow\">Ridge</label><div class=\"sk-toggleable__content\"><pre>Ridge()</pre></div></div></div></div></div>"
            ]
          },
          "metadata": {},
          "execution_count": 8
        }
      ]
    },
    {
      "cell_type": "code",
      "source": [],
      "metadata": {
        "id": "R7UQup1GVPTf"
      },
      "execution_count": null,
      "outputs": []
    },
    {
      "cell_type": "markdown",
      "source": [
        "# Cell 8: Evaluate the model"
      ],
      "metadata": {
        "id": "Zr8qUUiKVpxT"
      }
    },
    {
      "cell_type": "code",
      "source": [
        "y_pred_train = best_model.predict(x_train)\n",
        "y_pred_test = best_model.predict(x_test)\n",
        "\n",
        "train_rmse = np.sqrt(mean_squared_error(y_train, y_pred_train))\n",
        "test_rmse = np.sqrt(mean_squared_error(y_test, y_pred_test))\n",
        "r2 = r2_score(y_test, y_pred_test)\n",
        "\n",
        "print(f\"Train RMSE: {train_rmse}\")\n",
        "print(f\"Test RMSE: {test_rmse}\")\n",
        "print(f\"R-squared: {r2}\")"
      ],
      "metadata": {
        "colab": {
          "base_uri": "https://localhost:8080/"
        },
        "id": "he4C8nmxVqUa",
        "outputId": "25652026-4f43-456b-dea8-b92a1df72a8e"
      },
      "execution_count": null,
      "outputs": [
        {
          "output_type": "stream",
          "name": "stdout",
          "text": [
            "Train RMSE: 96.6469681870139\n",
            "Test RMSE: 90.34464688739051\n",
            "R-squared: 0.9160464034390108\n"
          ]
        }
      ]
    },
    {
      "cell_type": "code",
      "source": [],
      "metadata": {
        "id": "VHpZ6pFZVrhl"
      },
      "execution_count": null,
      "outputs": []
    },
    {
      "cell_type": "markdown",
      "source": [
        "# Cell 9: Save the best model using pickle"
      ],
      "metadata": {
        "id": "EHARFEjAVuwe"
      }
    },
    {
      "cell_type": "code",
      "source": [
        "with open('best_model.pkl', 'wb') as file:\n",
        "    pickle.dump(best_model, file)"
      ],
      "metadata": {
        "id": "5Wt2aOO0VvYk"
      },
      "execution_count": null,
      "outputs": []
    },
    {
      "cell_type": "code",
      "source": [],
      "metadata": {
        "id": "Hrbm6XlzVxEj"
      },
      "execution_count": null,
      "outputs": []
    },
    {
      "cell_type": "markdown",
      "source": [
        "# Cell 10: Load the saved model"
      ],
      "metadata": {
        "id": "2fzn1WrxV1ft"
      }
    },
    {
      "cell_type": "code",
      "source": [
        "with open('best_model.pkl', 'rb') as file:\n",
        "    loaded_model = pickle.load(file)"
      ],
      "metadata": {
        "id": "wh7c8c0yV2II"
      },
      "execution_count": null,
      "outputs": []
    },
    {
      "cell_type": "code",
      "source": [],
      "metadata": {
        "id": "yMVKL2geV3cD"
      },
      "execution_count": null,
      "outputs": []
    },
    {
      "cell_type": "markdown",
      "source": [
        "# Cell 11: Make a single prediction for any version"
      ],
      "metadata": {
        "id": "9tUwV8AfV5sd"
      }
    },
    {
      "cell_type": "code",
      "source": [
        "def predict_iphone_price(iphone_version, exchange_rate):\n",
        "    # Use the loaded linear regression model to predict the corresponding price based on the input version\n",
        "    prediction_value = loaded_model.predict([[iphone_version]])\n",
        "\n",
        "    # Convert the predicted price from dollars to rupees using the provided exchange rate\n",
        "    dollar = prediction_value[0][0]\n",
        "    rupees = dollar * exchange_rate\n",
        "\n",
        "    # Print the predicted price in dollars and rupees\n",
        "    # Note: The `prediction_value` variable is assumed to be a 2D array from the `predict` method,\n",
        "    # so we access the predicted value using indexing [0][0].\n",
        "    # The \"\\033[1m\" escape code is used to make the text bold, and \"\\033[0m\" is used to reset the formatting to normal.\n",
        "    print(\"\\033[1mThe Dollar Amount is:\\033[0m\", dollar, \"Dollars\")\n",
        "    print(\"\\033[1mThe Amount in Rupees is:\\033[0m\", rupees, \"Rupees\")"
      ],
      "metadata": {
        "id": "_XFOVqfLV6UN"
      },
      "execution_count": null,
      "outputs": []
    },
    {
      "cell_type": "code",
      "source": [],
      "metadata": {
        "id": "qV4MFGGJV8B0"
      },
      "execution_count": null,
      "outputs": []
    },
    {
      "cell_type": "markdown",
      "source": [
        "# Cell 12: Get the exchange rate using exchangerate-api.com"
      ],
      "metadata": {
        "id": "XIPWjKJhWD5g"
      }
    },
    {
      "cell_type": "code",
      "source": [
        "def get_exchange_rate(api_key, base_currency, target_currency):\n",
        "    url = f\"https://v6.exchangerate-api.com/v6/{api_key}/pair/{base_currency}/{target_currency}\"\n",
        "    response = requests.get(url)\n",
        "\n",
        "    if response.status_code == 200:\n",
        "        data = response.json()\n",
        "        return data.get(\"conversion_rate\", None)\n",
        "    else:\n",
        "        print(\"Failed to fetch exchange rates.\")\n",
        "        return None"
      ],
      "metadata": {
        "id": "1_Op95irWEkn"
      },
      "execution_count": null,
      "outputs": []
    },
    {
      "cell_type": "markdown",
      "source": [
        "# Cell 13: Main function to get exchange rate and predict price in rupees"
      ],
      "metadata": {
        "id": "1gbF15MWWTAg"
      }
    },
    {
      "cell_type": "code",
      "source": [
        "def main():\n",
        "    api_key = \"24deb0ef1b10d0e1838a1e1b\"\n",
        "    base_currency = \"USD\"\n",
        "    target_currency = \"INR\"\n",
        "\n",
        "    exchange_rate = get_exchange_rate(api_key, base_currency, target_currency)\n",
        "    if exchange_rate is not None:\n",
        "        print(f\"1 {base_currency} = {exchange_rate} {target_currency}\")\n",
        "        try:\n",
        "            iphone_version = float(input(\"Please Enter iPhone_version: \"))\n",
        "        except ValueError:\n",
        "            print(\"Invalid input. Please enter a valid numeric value.\")\n",
        "            return\n",
        "\n",
        "        predict_iphone_price(iphone_version, exchange_rate)\n",
        "\n",
        "if __name__ == \"__main__\":\n",
        "    main()"
      ],
      "metadata": {
        "colab": {
          "base_uri": "https://localhost:8080/"
        },
        "id": "bV3Mn5nSWHgO",
        "outputId": "bb410ef0-c426-4f9b-93ec-9905df269a4b"
      },
      "execution_count": null,
      "outputs": [
        {
          "output_type": "stream",
          "name": "stdout",
          "text": [
            "1 USD = 82.9472 INR\n",
            "Please Enter iPhone_version: 13\n",
            "\u001b[1mThe Dollar Amount is:\u001b[0m 3696.631652271058 Dollars\n",
            "\u001b[1mThe Amount in Rupees is:\u001b[0m 306625.2449872579 Rupees\n"
          ]
        }
      ]
    },
    {
      "cell_type": "markdown",
      "source": [
        "# What is the best model in this code?\n",
        "\n",
        "1.\t**In the provided code,** the best model is determined through **hyperparameter tuning and cross-validation.** The code tests multiple regression models and selects the one with the best performance based on the **negative mean squared error (MSE) score.** The model with the lowest negative MSE is considered the best model for this specific dataset and evaluation metric.**\n",
        "\n",
        "2.\t**After running the hyperparameter tuning loop, the code prints the name of the best model and its corresponding best score (negative MSE).** In this case, the best model is either Linear Regression, Ridge Regression, Lasso Regression, Decision Tree, or Random Forest, **depending on which one had the lowest negative MSE during the cross-validation process.**\n",
        "\n",
        "3.\t**The actual model name and its performance may vary depending on the dataset** and the **random state used during the train-test split.** To find out the specific best model and its hyperparameters for the dataset you are using, you can check the printed output after running the code.\n",
        "\n",
        "4.  The line that prints the best model's name and score is:\n",
        "\n",
        "5.  **print(f\"Best Model: {best_model_name}, Best Score: {best_score}\")**\n",
        "\n",
        "6.  **Best Model:** Ridge Regression, **Best Score:** -25175.284912510386\n",
        "\n",
        "\n"
      ],
      "metadata": {
        "id": "1JiAerwoYe00"
      }
    },
    {
      "cell_type": "code",
      "source": [],
      "metadata": {
        "id": "ZwVML_kdYhqB"
      },
      "execution_count": null,
      "outputs": []
    },
    {
      "cell_type": "code",
      "source": [
        "import requests\n",
        "import pickle\n",
        "\n",
        "def get_exchange_rate(api_key, base_currency, target_currency):\n",
        "    url = f\"https://v6.exchangerate-api.com/v6/{api_key}/pair/{base_currency}/{target_currency}\"\n",
        "    response = requests.get(url)\n",
        "\n",
        "    if response.status_code == 200:\n",
        "        data = response.json()\n",
        "        return data.get(\"conversion_rate\", None)\n",
        "    else:\n",
        "        print(\"Failed to fetch exchange rates.\")\n",
        "        return None\n",
        "\n",
        "def predict_iphone_price(iphone_version, exchange_rate):\n",
        "    # Load the saved linear regression model from the file 'best_model.pkl'\n",
        "    with open('best_model.pkl', 'rb') as file:\n",
        "        loaded_model = pickle.load(file)\n",
        "\n",
        "    # Use the loaded linear regression model to predict the corresponding price based on the input version\n",
        "    prediction_value = loaded_model.predict([[iphone_version]])\n",
        "\n",
        "    # Convert the predicted price from dollars to the target currency using the provided exchange rate\n",
        "    price_in_dollars = prediction_value[0][0]\n",
        "    price_in_target_currency = price_in_dollars * exchange_rate\n",
        "\n",
        "    # Print the predicted price in dollars and the target currency\n",
        "    print(\"\\033[1mThe Dollar Amount is:\\033[0m\", price_in_dollars, \"Dollars\")\n",
        "    print(\"\\033[1mThe Amount in Target Currency is:\\033[0m\", price_in_target_currency)\n",
        "\n",
        "def main():\n",
        "    api_key = '24deb0ef1b10d0e1838a1e1b'\n",
        "    base_currency = \"USD\"\n",
        "    target_currency = input(\"Please enter your target currency (e.g., INR, EUR, GBP, etc.): \")\n",
        "\n",
        "    exchange_rate = get_exchange_rate(api_key, base_currency, target_currency)\n",
        "    if exchange_rate is not None:\n",
        "        print(f\"1 {base_currency} = {exchange_rate} {target_currency}\")\n",
        "        try:\n",
        "            iphone_version = float(input(\"\\nPlease Enter iPhone_version: \"))\n",
        "        except ValueError:\n",
        "            print(\"Invalid input. Please enter a valid numeric value.\")\n",
        "            return\n",
        "\n",
        "        predict_iphone_price(iphone_version, exchange_rate)\n",
        "\n",
        "if __name__ == \"__main__\":\n",
        "    main()"
      ],
      "metadata": {
        "id": "FEpI9EAFfZ0u",
        "colab": {
          "base_uri": "https://localhost:8080/"
        },
        "outputId": "6d6cbf03-bcd5-4ecd-a399-3ccdd3fb4f0f"
      },
      "execution_count": null,
      "outputs": [
        {
          "output_type": "stream",
          "name": "stdout",
          "text": [
            "Please enter your target currency (e.g., INR, EUR, GBP, etc.): inr\n",
            "1 USD = 82.9472 inr\n",
            "\n",
            "Please Enter iPhone_version: 13\n",
            "\u001b[1mThe Dollar Amount is:\u001b[0m 3696.631652271058 Dollars\n",
            "\u001b[1mThe Amount in Target Currency is:\u001b[0m 306625.2449872579\n"
          ]
        }
      ]
    },
    {
      "cell_type": "code",
      "source": [],
      "metadata": {
        "id": "jRi8ZcLefdvE"
      },
      "execution_count": null,
      "outputs": []
    }
  ]
}