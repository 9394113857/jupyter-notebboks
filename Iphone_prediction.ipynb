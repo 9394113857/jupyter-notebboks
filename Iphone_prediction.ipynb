{
  "nbformat": 4,
  "nbformat_minor": 0,
  "metadata": {
    "colab": {
      "provenance": []
    },
    "kernelspec": {
      "name": "python3",
      "display_name": "Python 3"
    },
    "language_info": {
      "name": "python"
    }
  },
  "cells": [
    {
      "cell_type": "code",
      "execution_count": null,
      "metadata": {
        "id": "vHuctr1iOtlU"
      },
      "outputs": [],
      "source": [
        "# importing pickle\n",
        "import pickle\n",
        "\n",
        "# loading the model\n",
        "loaded_linear_regression_model = pickle.load(open(\"Iphone_Price_LinearRegression.pkl\", \"rb\"))"
      ]
    },
    {
      "cell_type": "code",
      "source": [
        "iphone_version=float(input(\"Please Enter iphone_version : \"))\n",
        "prediction_value = loaded_linear_regression_model.predict([[iphone_version]])\n",
        "print(\"The Dollar Amount is : \",prediction_value, \"Dollars\")\n",
        "print(\"======================================\")\n",
        "# dollar=float(input(\"Please Enter amount in dollars : \"))\n",
        "dollar = prediction_value\n",
        "rupees=dollar*79.71\n",
        "print(\"The Amount is : \",rupees, \"Rupees\")\n",
        "print(\"======================================\")\n",
        "print(\"======================================\")\n"
      ],
      "metadata": {
        "colab": {
          "base_uri": "https://localhost:8080/"
        },
        "id": "K2XaAjRyPHQ-",
        "outputId": "367f4c25-02d9-40f2-ae5a-f54f0fff7198"
      },
      "execution_count": null,
      "outputs": [
        {
          "output_type": "stream",
          "name": "stdout",
          "text": [
            "Please Enter iphone_version : 13\n",
            "The Dollar Amount is :  [[1292.03030303]] Dollars\n",
            "======================================\n",
            "The Amount is :  [[102987.73545455]] Rupees\n",
            "======================================\n",
            "======================================\n"
          ]
        },
        {
          "output_type": "stream",
          "name": "stderr",
          "text": [
            "/usr/local/lib/python3.10/dist-packages/sklearn/base.py:439: UserWarning: X does not have valid feature names, but LinearRegression was fitted with feature names\n",
            "  warnings.warn(\n"
          ]
        }
      ]
    },
    {
      "cell_type": "code",
      "source": [],
      "metadata": {
        "id": "aaxQ7r-YPP-x"
      },
      "execution_count": null,
      "outputs": []
    }
  ]
}