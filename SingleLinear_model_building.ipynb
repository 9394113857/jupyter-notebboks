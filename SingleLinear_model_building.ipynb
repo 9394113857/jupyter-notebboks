{
  "nbformat": 4,
  "nbformat_minor": 0,
  "metadata": {
    "colab": {
      "provenance": []
    },
    "kernelspec": {
      "name": "python3",
      "display_name": "Python 3"
    },
    "language_info": {
      "name": "python"
    }
  },
  "cells": [
    {
      "cell_type": "code",
      "execution_count": null,
      "metadata": {
        "id": "hIJMyM8XuVQ7"
      },
      "outputs": [],
      "source": [
        "import numpy as np\n",
        "import pandas as pd\n",
        "import matplotlib.pyplot as plt\n"
      ]
    },
    {
      "cell_type": "code",
      "source": [
        "#df = pd.read_csv('https://raw.githubusercontent.com/9394113857/Data-Sets/016432d6b1c3b5b89d101bb8e9169d4364180f6f/Salary_Data1.csv')"
      ],
      "metadata": {
        "id": "P3olyYbuu4nW"
      },
      "execution_count": null,
      "outputs": []
    },
    {
      "cell_type": "code",
      "source": [
        "df = pd.read_csv('https://raw.githubusercontent.com/9394113857/Data-Sets/9ffeb0e88cfbd6ec073f096b7a0dca1b0f2558c2/SalaryData.csv')"
      ],
      "metadata": {
        "id": "Okf-vHzjIXG3"
      },
      "execution_count": null,
      "outputs": []
    },
    {
      "cell_type": "code",
      "source": [
        "df.head()"
      ],
      "metadata": {
        "colab": {
          "base_uri": "https://localhost:8080/",
          "height": 206
        },
        "id": "D8xAPGeXvADa",
        "outputId": "81df23ce-a29c-4d5f-891f-65c5bc1d115f"
      },
      "execution_count": null,
      "outputs": [
        {
          "output_type": "execute_result",
          "data": {
            "text/plain": [
              "   YearsExperience  salary\n",
              "0              1.1   39343\n",
              "1              1.3   46205\n",
              "2              1.5   37731\n",
              "3              2.0   43525\n",
              "4              2.2   39891"
            ],
            "text/html": [
              "\n",
              "\n",
              "  <div id=\"df-2eacc8a7-a5e4-4b8a-a631-48c2dd271239\">\n",
              "    <div class=\"colab-df-container\">\n",
              "      <div>\n",
              "<style scoped>\n",
              "    .dataframe tbody tr th:only-of-type {\n",
              "        vertical-align: middle;\n",
              "    }\n",
              "\n",
              "    .dataframe tbody tr th {\n",
              "        vertical-align: top;\n",
              "    }\n",
              "\n",
              "    .dataframe thead th {\n",
              "        text-align: right;\n",
              "    }\n",
              "</style>\n",
              "<table border=\"1\" class=\"dataframe\">\n",
              "  <thead>\n",
              "    <tr style=\"text-align: right;\">\n",
              "      <th></th>\n",
              "      <th>YearsExperience</th>\n",
              "      <th>salary</th>\n",
              "    </tr>\n",
              "  </thead>\n",
              "  <tbody>\n",
              "    <tr>\n",
              "      <th>0</th>\n",
              "      <td>1.1</td>\n",
              "      <td>39343</td>\n",
              "    </tr>\n",
              "    <tr>\n",
              "      <th>1</th>\n",
              "      <td>1.3</td>\n",
              "      <td>46205</td>\n",
              "    </tr>\n",
              "    <tr>\n",
              "      <th>2</th>\n",
              "      <td>1.5</td>\n",
              "      <td>37731</td>\n",
              "    </tr>\n",
              "    <tr>\n",
              "      <th>3</th>\n",
              "      <td>2.0</td>\n",
              "      <td>43525</td>\n",
              "    </tr>\n",
              "    <tr>\n",
              "      <th>4</th>\n",
              "      <td>2.2</td>\n",
              "      <td>39891</td>\n",
              "    </tr>\n",
              "  </tbody>\n",
              "</table>\n",
              "</div>\n",
              "      <button class=\"colab-df-convert\" onclick=\"convertToInteractive('df-2eacc8a7-a5e4-4b8a-a631-48c2dd271239')\"\n",
              "              title=\"Convert this dataframe to an interactive table.\"\n",
              "              style=\"display:none;\">\n",
              "\n",
              "  <svg xmlns=\"http://www.w3.org/2000/svg\" height=\"24px\"viewBox=\"0 0 24 24\"\n",
              "       width=\"24px\">\n",
              "    <path d=\"M0 0h24v24H0V0z\" fill=\"none\"/>\n",
              "    <path d=\"M18.56 5.44l.94 2.06.94-2.06 2.06-.94-2.06-.94-.94-2.06-.94 2.06-2.06.94zm-11 1L8.5 8.5l.94-2.06 2.06-.94-2.06-.94L8.5 2.5l-.94 2.06-2.06.94zm10 10l.94 2.06.94-2.06 2.06-.94-2.06-.94-.94-2.06-.94 2.06-2.06.94z\"/><path d=\"M17.41 7.96l-1.37-1.37c-.4-.4-.92-.59-1.43-.59-.52 0-1.04.2-1.43.59L10.3 9.45l-7.72 7.72c-.78.78-.78 2.05 0 2.83L4 21.41c.39.39.9.59 1.41.59.51 0 1.02-.2 1.41-.59l7.78-7.78 2.81-2.81c.8-.78.8-2.07 0-2.86zM5.41 20L4 18.59l7.72-7.72 1.47 1.35L5.41 20z\"/>\n",
              "  </svg>\n",
              "      </button>\n",
              "\n",
              "\n",
              "\n",
              "    <div id=\"df-b9429a5e-6c50-47ba-8595-913ae14145bc\">\n",
              "      <button class=\"colab-df-quickchart\" onclick=\"quickchart('df-b9429a5e-6c50-47ba-8595-913ae14145bc')\"\n",
              "              title=\"Suggest charts.\"\n",
              "              style=\"display:none;\">\n",
              "\n",
              "<svg xmlns=\"http://www.w3.org/2000/svg\" height=\"24px\"viewBox=\"0 0 24 24\"\n",
              "     width=\"24px\">\n",
              "    <g>\n",
              "        <path d=\"M19 3H5c-1.1 0-2 .9-2 2v14c0 1.1.9 2 2 2h14c1.1 0 2-.9 2-2V5c0-1.1-.9-2-2-2zM9 17H7v-7h2v7zm4 0h-2V7h2v10zm4 0h-2v-4h2v4z\"/>\n",
              "    </g>\n",
              "</svg>\n",
              "      </button>\n",
              "    </div>\n",
              "\n",
              "<style>\n",
              "  .colab-df-quickchart {\n",
              "    background-color: #E8F0FE;\n",
              "    border: none;\n",
              "    border-radius: 50%;\n",
              "    cursor: pointer;\n",
              "    display: none;\n",
              "    fill: #1967D2;\n",
              "    height: 32px;\n",
              "    padding: 0 0 0 0;\n",
              "    width: 32px;\n",
              "  }\n",
              "\n",
              "  .colab-df-quickchart:hover {\n",
              "    background-color: #E2EBFA;\n",
              "    box-shadow: 0px 1px 2px rgba(60, 64, 67, 0.3), 0px 1px 3px 1px rgba(60, 64, 67, 0.15);\n",
              "    fill: #174EA6;\n",
              "  }\n",
              "\n",
              "  [theme=dark] .colab-df-quickchart {\n",
              "    background-color: #3B4455;\n",
              "    fill: #D2E3FC;\n",
              "  }\n",
              "\n",
              "  [theme=dark] .colab-df-quickchart:hover {\n",
              "    background-color: #434B5C;\n",
              "    box-shadow: 0px 1px 3px 1px rgba(0, 0, 0, 0.15);\n",
              "    filter: drop-shadow(0px 1px 2px rgba(0, 0, 0, 0.3));\n",
              "    fill: #FFFFFF;\n",
              "  }\n",
              "</style>\n",
              "\n",
              "    <script>\n",
              "      async function quickchart(key) {\n",
              "        const containerElement = document.querySelector('#' + key);\n",
              "        const charts = await google.colab.kernel.invokeFunction(\n",
              "            'suggestCharts', [key], {});\n",
              "      }\n",
              "    </script>\n",
              "\n",
              "      <script>\n",
              "\n",
              "function displayQuickchartButton(domScope) {\n",
              "  let quickchartButtonEl =\n",
              "    domScope.querySelector('#df-b9429a5e-6c50-47ba-8595-913ae14145bc button.colab-df-quickchart');\n",
              "  quickchartButtonEl.style.display =\n",
              "    google.colab.kernel.accessAllowed ? 'block' : 'none';\n",
              "}\n",
              "\n",
              "        displayQuickchartButton(document);\n",
              "      </script>\n",
              "      <style>\n",
              "    .colab-df-container {\n",
              "      display:flex;\n",
              "      flex-wrap:wrap;\n",
              "      gap: 12px;\n",
              "    }\n",
              "\n",
              "    .colab-df-convert {\n",
              "      background-color: #E8F0FE;\n",
              "      border: none;\n",
              "      border-radius: 50%;\n",
              "      cursor: pointer;\n",
              "      display: none;\n",
              "      fill: #1967D2;\n",
              "      height: 32px;\n",
              "      padding: 0 0 0 0;\n",
              "      width: 32px;\n",
              "    }\n",
              "\n",
              "    .colab-df-convert:hover {\n",
              "      background-color: #E2EBFA;\n",
              "      box-shadow: 0px 1px 2px rgba(60, 64, 67, 0.3), 0px 1px 3px 1px rgba(60, 64, 67, 0.15);\n",
              "      fill: #174EA6;\n",
              "    }\n",
              "\n",
              "    [theme=dark] .colab-df-convert {\n",
              "      background-color: #3B4455;\n",
              "      fill: #D2E3FC;\n",
              "    }\n",
              "\n",
              "    [theme=dark] .colab-df-convert:hover {\n",
              "      background-color: #434B5C;\n",
              "      box-shadow: 0px 1px 3px 1px rgba(0, 0, 0, 0.15);\n",
              "      filter: drop-shadow(0px 1px 2px rgba(0, 0, 0, 0.3));\n",
              "      fill: #FFFFFF;\n",
              "    }\n",
              "  </style>\n",
              "\n",
              "      <script>\n",
              "        const buttonEl =\n",
              "          document.querySelector('#df-2eacc8a7-a5e4-4b8a-a631-48c2dd271239 button.colab-df-convert');\n",
              "        buttonEl.style.display =\n",
              "          google.colab.kernel.accessAllowed ? 'block' : 'none';\n",
              "\n",
              "        async function convertToInteractive(key) {\n",
              "          const element = document.querySelector('#df-2eacc8a7-a5e4-4b8a-a631-48c2dd271239');\n",
              "          const dataTable =\n",
              "            await google.colab.kernel.invokeFunction('convertToInteractive',\n",
              "                                                     [key], {});\n",
              "          if (!dataTable) return;\n",
              "\n",
              "          const docLinkHtml = 'Like what you see? Visit the ' +\n",
              "            '<a target=\"_blank\" href=https://colab.research.google.com/notebooks/data_table.ipynb>data table notebook</a>'\n",
              "            + ' to learn more about interactive tables.';\n",
              "          element.innerHTML = '';\n",
              "          dataTable['output_type'] = 'display_data';\n",
              "          await google.colab.output.renderOutput(dataTable, element);\n",
              "          const docLink = document.createElement('div');\n",
              "          docLink.innerHTML = docLinkHtml;\n",
              "          element.appendChild(docLink);\n",
              "        }\n",
              "      </script>\n",
              "    </div>\n",
              "  </div>\n"
            ]
          },
          "metadata": {},
          "execution_count": 75
        }
      ]
    },
    {
      "cell_type": "code",
      "source": [
        "# Extracting the input features (x) and the target variable (y):\n",
        "x = df.iloc[:, :-1].values # all rows:1 coumn, of Experience\n",
        "y = df.iloc[ : , 1 : ].values # all rows:1 coumn, of Salary"
      ],
      "metadata": {
        "id": "qc79iulmvB-M"
      },
      "execution_count": null,
      "outputs": []
    },
    {
      "cell_type": "code",
      "source": [],
      "metadata": {
        "id": "f8msmaTlL86g"
      },
      "execution_count": null,
      "outputs": []
    },
    {
      "cell_type": "markdown",
      "source": [
        "**x = df.iloc[ :, :-1].values**\n",
        "\n",
        "1.\tdf: This represents the DataFrame that contains the data from which we want to extract the target variable.\n",
        "2.\tiloc[:, 1:]: The 'iloc' function in pandas is used for integer-based indexing on the DataFrame. The [:, 1:] part is a slicing operation. It selects all rows (denoted by :) and all columns starting from the second column (denoted by 1:). The reason for starting from the second column is that the target variable (in this case, 'Salary') is typically stored in the second column of the DataFrame. The colon (:) with no index before or after it indicates that all rows are selected.\n",
        "3.\t.values: This converts the selected DataFrame slice into a NumPy array. The variable y will store this NumPy array.\n",
        "\n",
        "\n",
        "\n",
        "===================================================================================================================\n",
        "\n",
        "**y = df.iloc[ : , 1 : ].values**\n",
        "\n",
        "**1.\tdf:**\n",
        "\n",
        "This represents the DataFrame that contains the data from which we want to extract the target variable.\n",
        "\n",
        "**2.\tiloc[:, 1:]:**\n",
        "\n",
        "The 'iloc' function in pandas is used for integer-based indexing on the DataFrame. The [:, 1:] part is a slicing operation. It selects all rows (denoted by :) and all columns starting from the second column (denoted by 1:). The reason for starting from the second column is that the target variable (in this case, 'Salary') is typically stored in the second column of the DataFrame. The colon (:) with no index before or after it indicates that all rows are selected.\n",
        "\n",
        "**3.\t.values:**\n",
        "\n",
        "This converts the selected DataFrame slice into a NumPy array. The variable y will store this NumPy array.\n",
        "\n",
        "\n",
        "\n"
      ],
      "metadata": {
        "id": "8ft5XRArrODl"
      }
    },
    {
      "cell_type": "code",
      "source": [
        "x"
      ],
      "metadata": {
        "colab": {
          "base_uri": "https://localhost:8080/"
        },
        "id": "Fx-t0xlWpD4n",
        "outputId": "44b00f3f-6fd1-410f-c6cb-fd6784cdc2c5"
      },
      "execution_count": null,
      "outputs": [
        {
          "output_type": "execute_result",
          "data": {
            "text/plain": [
              "array([[ 1.1],\n",
              "       [ 1.3],\n",
              "       [ 1.5],\n",
              "       [ 2. ],\n",
              "       [ 2.2],\n",
              "       [ 2.9],\n",
              "       [ 3. ],\n",
              "       [ 3.2],\n",
              "       [ 3.2],\n",
              "       [ 3.7],\n",
              "       [ 3.9],\n",
              "       [ 4. ],\n",
              "       [ 4. ],\n",
              "       [ 4.1],\n",
              "       [ 4.5],\n",
              "       [ 4.9],\n",
              "       [ 5.1],\n",
              "       [ 5.3],\n",
              "       [ 5.9],\n",
              "       [ 6. ],\n",
              "       [ 6.8],\n",
              "       [ 7.1],\n",
              "       [ 7.9],\n",
              "       [ 8.2],\n",
              "       [ 8.7],\n",
              "       [ 9. ],\n",
              "       [ 9.5],\n",
              "       [ 9.6],\n",
              "       [10.3],\n",
              "       [10.5]])"
            ]
          },
          "metadata": {},
          "execution_count": 77
        }
      ]
    },
    {
      "cell_type": "code",
      "source": [
        "print(x)"
      ],
      "metadata": {
        "colab": {
          "base_uri": "https://localhost:8080/"
        },
        "id": "KxQ4KvJStOuW",
        "outputId": "4e415ba4-db64-4183-e020-e6eda4a1bafe"
      },
      "execution_count": null,
      "outputs": [
        {
          "output_type": "stream",
          "name": "stdout",
          "text": [
            "[[ 1.1]\n",
            " [ 1.3]\n",
            " [ 1.5]\n",
            " [ 2. ]\n",
            " [ 2.2]\n",
            " [ 2.9]\n",
            " [ 3. ]\n",
            " [ 3.2]\n",
            " [ 3.2]\n",
            " [ 3.7]\n",
            " [ 3.9]\n",
            " [ 4. ]\n",
            " [ 4. ]\n",
            " [ 4.1]\n",
            " [ 4.5]\n",
            " [ 4.9]\n",
            " [ 5.1]\n",
            " [ 5.3]\n",
            " [ 5.9]\n",
            " [ 6. ]\n",
            " [ 6.8]\n",
            " [ 7.1]\n",
            " [ 7.9]\n",
            " [ 8.2]\n",
            " [ 8.7]\n",
            " [ 9. ]\n",
            " [ 9.5]\n",
            " [ 9.6]\n",
            " [10.3]\n",
            " [10.5]]\n"
          ]
        }
      ]
    },
    {
      "cell_type": "code",
      "source": [
        "y"
      ],
      "metadata": {
        "colab": {
          "base_uri": "https://localhost:8080/"
        },
        "id": "oTTyAnJetCZn",
        "outputId": "f59eb057-199d-44a3-f162-df5dd4252f0a"
      },
      "execution_count": null,
      "outputs": [
        {
          "output_type": "execute_result",
          "data": {
            "text/plain": [
              "array([[ 39343],\n",
              "       [ 46205],\n",
              "       [ 37731],\n",
              "       [ 43525],\n",
              "       [ 39891],\n",
              "       [ 56642],\n",
              "       [ 60150],\n",
              "       [ 54445],\n",
              "       [ 64445],\n",
              "       [ 57189],\n",
              "       [ 63218],\n",
              "       [ 55794],\n",
              "       [ 56957],\n",
              "       [ 57081],\n",
              "       [ 61111],\n",
              "       [ 67938],\n",
              "       [ 66029],\n",
              "       [ 83088],\n",
              "       [ 81363],\n",
              "       [ 93940],\n",
              "       [ 91738],\n",
              "       [ 98273],\n",
              "       [101302],\n",
              "       [113812],\n",
              "       [109431],\n",
              "       [105582],\n",
              "       [116969],\n",
              "       [112635],\n",
              "       [122391],\n",
              "       [121872]])"
            ]
          },
          "metadata": {},
          "execution_count": 79
        }
      ]
    },
    {
      "cell_type": "code",
      "source": [
        "print(y)"
      ],
      "metadata": {
        "colab": {
          "base_uri": "https://localhost:8080/"
        },
        "id": "Wea3ulOstIT_",
        "outputId": "ce6e99d8-99a6-41c0-af0b-48081f2724d9"
      },
      "execution_count": null,
      "outputs": [
        {
          "output_type": "stream",
          "name": "stdout",
          "text": [
            "[[ 39343]\n",
            " [ 46205]\n",
            " [ 37731]\n",
            " [ 43525]\n",
            " [ 39891]\n",
            " [ 56642]\n",
            " [ 60150]\n",
            " [ 54445]\n",
            " [ 64445]\n",
            " [ 57189]\n",
            " [ 63218]\n",
            " [ 55794]\n",
            " [ 56957]\n",
            " [ 57081]\n",
            " [ 61111]\n",
            " [ 67938]\n",
            " [ 66029]\n",
            " [ 83088]\n",
            " [ 81363]\n",
            " [ 93940]\n",
            " [ 91738]\n",
            " [ 98273]\n",
            " [101302]\n",
            " [113812]\n",
            " [109431]\n",
            " [105582]\n",
            " [116969]\n",
            " [112635]\n",
            " [122391]\n",
            " [121872]]\n"
          ]
        }
      ]
    },
    {
      "cell_type": "code",
      "source": [
        "print(df[1:3])"
      ],
      "metadata": {
        "colab": {
          "base_uri": "https://localhost:8080/"
        },
        "id": "IN-OpMhJKlpC",
        "outputId": "7cb780ec-3f87-42f3-b5ad-0f396b1a82f2"
      },
      "execution_count": null,
      "outputs": [
        {
          "output_type": "stream",
          "name": "stdout",
          "text": [
            "   YearsExperience  salary\n",
            "1              1.3   46205\n",
            "2              1.5   37731\n"
          ]
        }
      ]
    },
    {
      "cell_type": "code",
      "source": [],
      "metadata": {
        "id": "vgsKDk93LkX5"
      },
      "execution_count": null,
      "outputs": []
    },
    {
      "cell_type": "markdown",
      "source": [
        "1.\tdf is a DataFrame, which is a two-dimensional tabular data structure in pandas (a popular Python library for data manipulation and analysis). It contains rows and columns of data.\n",
        "2.\tYearsExperience and salary are two columns within the DataFrame df. The DataFrame likely represents some kind of dataset, where each row corresponds to an individual's data with information about their years of experience and corresponding salary.\n",
        "3.\tdf[1:3] is a slicing operation on the DataFrame. It selects rows from index 1 up to (but not including) index 3. In Python, indexing starts from 0. So, this code will fetch rows with indices 1 and 2 from the DataFrame.\n",
        "4.\tThe output of the code will be a new DataFrame containing rows 1 and 2, and all the columns present in the original DataFrame df (which, in this case, are YearsExperience and salary).\n",
        "\n"
      ],
      "metadata": {
        "id": "nkp4D-SGLkim"
      }
    },
    {
      "cell_type": "code",
      "source": [
        "# Checking the data type of x and y:\n",
        "type(x) # numpy.ndarray\n",
        "type(y) # numpy.ndarray"
      ],
      "metadata": {
        "colab": {
          "base_uri": "https://localhost:8080/"
        },
        "id": "43tU7FjntLeH",
        "outputId": "76a96d14-343e-4aec-f6c8-74f895ed5034"
      },
      "execution_count": null,
      "outputs": [
        {
          "output_type": "execute_result",
          "data": {
            "text/plain": [
              "numpy.ndarray"
            ]
          },
          "metadata": {},
          "execution_count": 82
        }
      ]
    },
    {
      "cell_type": "code",
      "source": [],
      "metadata": {
        "id": "B-fgqhnlMZMW"
      },
      "execution_count": null,
      "outputs": []
    },
    {
      "cell_type": "markdown",
      "source": [
        "**About numpy array:**\n",
        "\n",
        "numpy.ndarray is a fundamental data structure in the NumPy library (Numerical Python), which is a powerful Python library used for numerical computing. The name \"ndarray\" stands for \"N-dimensional array,\" and it is the primary container for storing and manipulating homogeneous, multi-dimensional data in NumPy.\n",
        "\n",
        "**Key characteristics of numpy.ndarray:**\n",
        "\n",
        "**1.\tHomogeneous Data:** Unlike Python lists, NumPy arrays are designed to store elements of the same data type. This homogeneity allows for efficient storage and optimized operations.\n",
        "\n",
        "**2.\tMulti-dimensional:** NumPy arrays can have one or more dimensions. For example, a 1-dimensional array is similar to a list, a 2-dimensional array represents a matrix, and higher-dimensional arrays can represent tensors.\n",
        "\n",
        "**3.\tFixed Size:** Once created, the size (shape) of a NumPy array remains constant. You cannot change the size of the array; you can only create a new array with a different shape.\n",
        "\n",
        "**4.\tEfficient Operations:** NumPy provides highly optimized mathematical functions and operations that can be applied directly to entire arrays. These operations are much faster than using Python loops to perform the same computations.\n",
        "\n",
        "**5.\tBroadcasting:** NumPy allows for broadcasting, which is a powerful mechanism that allows operations between arrays of different shapes and dimensions to be performed automatically, under certain rules.\n",
        "\n",
        "**6.\tIndexing and Slicing:** You can access elements of a NumPy array using indexing and slicing, similar to Python lists.\n",
        "\n"
      ],
      "metadata": {
        "id": "cAM1E7rJMZVh"
      }
    },
    {
      "cell_type": "code",
      "source": [
        "# Here's an example of creating a simple 1-dimensional NumPy array:\n",
        "import numpy as np\n",
        "\n",
        "# Creating a 1-dimensional NumPy array\n",
        "data = [1, 2, 3, 4, 5]\n",
        "numpy_array = np.array(data)\n",
        "\n",
        "print(numpy_array)\n",
        "# Output: [1 2 3 4 5]\n",
        "\n",
        "print(type(numpy_array))\n",
        "# Output:\n",
        "# [1 2 3 4 5]\n",
        "# <class 'numpy.ndarray'>\n",
        "\n",
        "# NumPy arrays are widely used in scientific, engineering, and data analysis applications due to their efficiency, flexibility, and rich functionality for handling numerical data.\n"
      ],
      "metadata": {
        "colab": {
          "base_uri": "https://localhost:8080/"
        },
        "id": "Th0dbhZAN1Dr",
        "outputId": "2faa729a-2ae4-4d8f-8f76-b9d28d28713e"
      },
      "execution_count": null,
      "outputs": [
        {
          "output_type": "stream",
          "name": "stdout",
          "text": [
            "[1 2 3 4 5]\n",
            "<class 'numpy.ndarray'>\n"
          ]
        }
      ]
    },
    {
      "cell_type": "code",
      "source": [
        "# A 2-dimensional array is essentially a matrix.\n",
        "# It has rows and columns, and each element can be accessed using two indices.\n",
        "# Here's an example of creating a 2-dimensional NumPy array:\n",
        "import numpy as np\n",
        "\n",
        "# Creating a 2-dimensional NumPy array\n",
        "data_2d = [[1, 2, 3], [4, 5, 6], [7, 8, 9]]\n",
        "numpy_array_2d = np.array(data_2d)\n",
        "\n",
        "print(\"2-dimensional array with rows and columns:\")\n",
        "print(numpy_array_2d)\n",
        "# Output:\n",
        "# [[1 2 3]\n",
        "#  [4 5 6]\n",
        "#  [7 8 9]]\n",
        "\n",
        "print()\n",
        "print(numpy_array_2d.shape)\n",
        "# Output: (3, 3)\n",
        "\n",
        "print()\n",
        "print(numpy_array_2d[1, 2])\n",
        "# Output: 6\n",
        "\n",
        "# In this example, we created a 2-dimensional array with three rows and three columns. We accessed the element at the second row (index 1) and third column (index 2), which is 6.\n"
      ],
      "metadata": {
        "colab": {
          "base_uri": "https://localhost:8080/"
        },
        "id": "i5_WAvTBOfOd",
        "outputId": "62bae81a-2754-45f2-f087-76ad70fa890e"
      },
      "execution_count": null,
      "outputs": [
        {
          "output_type": "stream",
          "name": "stdout",
          "text": [
            "2-dimensional array with rows and columns:\n",
            "[[1 2 3]\n",
            " [4 5 6]\n",
            " [7 8 9]]\n",
            "\n",
            "(3, 3)\n",
            "\n",
            "6\n"
          ]
        }
      ]
    },
    {
      "cell_type": "code",
      "source": [
        "# A 3-dimensional array can be thought of as a collection of 2-dimensional arrays.\n",
        "# It has two additional dimensions on top of rows and columns.\n",
        "# Here's an example of creating a 3-dimensional NumPy array:\n",
        "import numpy as np\n",
        "\n",
        "# Creating a 3-dimensional NumPy array\n",
        "data_3d = [[[1, 2], [3, 4]], [[5, 6], [7, 8]], [[9, 10], [11, 12]]]\n",
        "numpy_array_3d = np.array(data_3d)\n",
        "\n",
        "print(numpy_array_3d)\n",
        "# Output:\n",
        "# [[[ 1  2]\n",
        "#   [ 3  4]]\n",
        "\n",
        "#  [[ 5  6]\n",
        "#   [ 7  8]]\n",
        "\n",
        "#  [[ 9 10]\n",
        "#   [11 12]]]\n",
        "\n",
        "print()\n",
        "print(numpy_array_3d.shape)\n",
        "# Output: (3, 2, 2)\n",
        "\n",
        "print()\n",
        "print(numpy_array_3d[1, 0, 1])\n",
        "# Output: 6\n"
      ],
      "metadata": {
        "colab": {
          "base_uri": "https://localhost:8080/"
        },
        "id": "2_7nJXH8P7-8",
        "outputId": "e1e7b24a-69a5-40c3-dac1-503ad8e1679b"
      },
      "execution_count": null,
      "outputs": [
        {
          "output_type": "stream",
          "name": "stdout",
          "text": [
            "[[[ 1  2]\n",
            "  [ 3  4]]\n",
            "\n",
            " [[ 5  6]\n",
            "  [ 7  8]]\n",
            "\n",
            " [[ 9 10]\n",
            "  [11 12]]]\n",
            "\n",
            "(3, 2, 2)\n",
            "\n",
            "6\n"
          ]
        }
      ]
    },
    {
      "cell_type": "code",
      "source": [
        "# The given data represents a NumPy array.\n",
        "# To determine whether it is 1-dimensional, 2-dimensional, or 3-dimensional, we need to examine the shape of the array.\n",
        "# In NumPy, we can check the shape of an array using the shape attribute.\n",
        "# Let's do that for the given array:\n",
        "import numpy as np\n",
        "\n",
        "data = np.array([[37731], [122391], [57081], [63218], [116969], [109431], [112635], [55794], [83088], [101302]])\n",
        "\n",
        "print(data.shape) # (10, 1)\n",
        "\n",
        "# The output will be (10, 1).\n",
        "# This means that the array has 10 rows and 1 column.\n",
        "# So, it is a 2-dimensional array.\n",
        "# The first dimension represents the number of rows, and the second dimension represents the number of columns.\n",
        "\n"
      ],
      "metadata": {
        "colab": {
          "base_uri": "https://localhost:8080/"
        },
        "id": "79ubmO__Sxaf",
        "outputId": "76a48e09-aa70-4041-acb7-f04bb7769020"
      },
      "execution_count": null,
      "outputs": [
        {
          "output_type": "stream",
          "name": "stdout",
          "text": [
            "(10, 1)\n"
          ]
        }
      ]
    },
    {
      "cell_type": "code",
      "source": [
        "import numpy as np\n",
        "\n",
        "# Creating a 3-dimensional NumPy array with two 2x2 matrices.\n",
        "data_3d = np.array([\n",
        "    [[1, 2],\n",
        "     [3, 4]],\n",
        "\n",
        "    [[5, 6],\n",
        "     [7, 8]]\n",
        "])\n",
        "\n",
        "# Printing the shape of the 3-dimensional array.\n",
        "# The output (2, 2, 2) confirms that the data_3d array is 3-dimensional.\n",
        "# It has 2 rows, 2 columns, and 2 layers. Each layer represents a 2x2 matrix.\n",
        "print(data_3d.shape)  # Output: (2, 2, 2)\n",
        "\n",
        "# Overview:\n",
        "# The shape of this array will be (2, 2, 2), indicating that it has 2 rows, 2 columns, and 2 layers.\n",
        "# Each layer is a 2x2 matrix.\n",
        "# So, in general, if the shape of a NumPy array has three elements in the tuple, it is a 3-dimensional array.\n"
      ],
      "metadata": {
        "colab": {
          "base_uri": "https://localhost:8080/"
        },
        "id": "37HfU4oMTsXB",
        "outputId": "efe18ffd-9c3a-4f7c-d5b6-a7d6f52afb5d"
      },
      "execution_count": null,
      "outputs": [
        {
          "output_type": "stream",
          "name": "stdout",
          "text": [
            "(2, 2, 2)\n"
          ]
        }
      ]
    },
    {
      "cell_type": "code",
      "source": [],
      "metadata": {
        "id": "GqYEDhOWPxZS"
      },
      "execution_count": null,
      "outputs": []
    },
    {
      "cell_type": "code",
      "source": [
        "# Splitting the dataset into training and test sets:\n",
        "from sklearn.model_selection import train_test_split\n",
        "\n",
        "x_train, x_test, y_train, y_test = train_test_split(x, y, test_size=1/3, random_state=0)"
      ],
      "metadata": {
        "id": "pSbova7vtbjU"
      },
      "execution_count": null,
      "outputs": []
    },
    {
      "cell_type": "code",
      "source": [],
      "metadata": {
        "id": "WF31Dci5uIIu"
      },
      "execution_count": null,
      "outputs": []
    },
    {
      "cell_type": "markdown",
      "source": [
        "**1.\tfrom sklearn.model_selection import train_test_split:**\n",
        "\n",
        "This line imports the train_test_split function from the model_selection module in the scikit-learn library. The train_test_split function is commonly used to split a dataset into training and test sets for machine learning tasks.\n",
        "\n",
        "**2.\tx_train, x_test, y_train, y_test = train_test_split(x, y, test_size=1/3, random_state=0):**\n",
        "\n",
        "This line splits the input features (x) and the target variable (y) into training and test sets.\n",
        "\n",
        "**•\tx:** This is the two-dimensional NumPy array containing the input features of the dataset.\n",
        "\n",
        "**•\ty:** This is the two-dimensional NumPy array containing the target variable (labels) of the dataset.\n",
        "\n",
        "**•\ttest_size:** This parameter specifies the proportion of the dataset to include in the test set. In this case, it is set to 1/3, meaning that one-third of the data will be used for testing, and the remaining two-thirds will be used for training.\n",
        "\n",
        "**•\trandom_state:** This parameter is used to seed the random number generator that performs the data shuffling before splitting. Setting it to a fixed value (e.g., 0) ensures that the same random split is obtained each time the code is run, making the results reproducible.\n",
        "\n",
        "**3.\tx_train:**\n",
        "\n",
        "This variable stores the training set's input features (data points used for training the machine learning model).\n",
        "\n",
        "**4.\tx_test:**\n",
        "\n",
        "This variable stores the test set's input features (data points used for evaluating the trained model's performance).\n",
        "\n",
        "**5.\ty_train:**\n",
        "\n",
        "This variable stores the training set's target variable (labels corresponding to the training data points).\n",
        "\n",
        "**6.\ty_test:**\n",
        "\n",
        "This variable stores the test set's target variable (labels corresponding to the test data points).\n",
        "\n",
        "**Overview:**\n",
        "\n",
        "To summarize, the code splits the dataset into training and test sets using the train_test_split function from scikit-learn. The training set is used to train the machine learning model, and the test set is used to evaluate its performance. This process is essential to ensure that the model can generalize well to unseen data and avoid overfitting."
      ],
      "metadata": {
        "id": "SB99M6FlvAjd"
      }
    },
    {
      "cell_type": "code",
      "source": [],
      "metadata": {
        "id": "oKURJjAFvZ3t"
      },
      "execution_count": null,
      "outputs": []
    },
    {
      "cell_type": "markdown",
      "source": [
        "**•\tx_train:** The training set features.\n",
        "\n",
        "**•\tx_test:** The test set features.\n",
        "\n",
        "**•\ty_train:** The training set target variable.\n",
        "\n",
        "**•\ty_test:** The test set target variable.\n",
        "\n",
        "These arrays are typically used to train a machine learning model using the training set and evaluate its performance on the test set.\n",
        "\n",
        "In machine learning, we typically split our data into training and test sets to evaluate the performance of our models. The purpose of this splitting is to simulate the real-world scenario where we train our model on known data (training set) and then test it on unseen data (test set).\n",
        "\n",
        "**Here's the correct understanding:**\n",
        "\n",
        "**•         x_train**\n",
        " is the input training data (features) that will be used to train your machine learning model.\n",
        "\n",
        "**•         y_train** is the corresponding target training data (labels) that represents the expected outputs for the x_train inputs. These target values are used to train your model to learn the underlying patterns in the data.\n",
        "\n",
        "**Once the model is trained on the x_train and y_train data,** you can use the trained model to make predictions on new, unseen data.\n",
        "\n",
        "**•         x_test** is the input test data (features) that represents a separate set of data that the model has not seen during training. This data is used to evaluate how well the model generalizes to new, unseen examples.\n",
        "\n",
        "**•         y_test** is the corresponding target test data (labels) that represents the expected outputs for the x_test inputs. These target values are used to compare the model's predicted outputs with the actual expected outputs, allowing you to assess the model's performance on unseen data.\n",
        "\n",
        "**Overview:**\n",
        "\n",
        "To summarize, during training, you provide both the input features (x_train) and the corresponding target values (y_train). This allows the model to learn the patterns in the data. Then, during testing or evaluation, you use the separate test set (x_test) to see how well the trained model can predict the target values (y_test) for unseen examples.\n",
        "The goal is to build a model that generalizes well to new, unseen data, which is why we separate the data into training and test sets.\n",
        "\n"
      ],
      "metadata": {
        "id": "tYUia8kgw7fh"
      }
    },
    {
      "cell_type": "code",
      "source": [
        "# Displaying the training set\n",
        "x_train\n",
        "y_train\n"
      ],
      "metadata": {
        "colab": {
          "base_uri": "https://localhost:8080/"
        },
        "id": "c6GRzGCcw7_D",
        "outputId": "84436dad-4ce6-4db2-ec1b-17cc9d8913f0"
      },
      "execution_count": null,
      "outputs": [
        {
          "output_type": "execute_result",
          "data": {
            "text/plain": [
              "array([[ 56642],\n",
              "       [ 66029],\n",
              "       [ 64445],\n",
              "       [ 61111],\n",
              "       [113812],\n",
              "       [ 91738],\n",
              "       [ 46205],\n",
              "       [121872],\n",
              "       [ 60150],\n",
              "       [ 39891],\n",
              "       [ 81363],\n",
              "       [ 93940],\n",
              "       [ 57189],\n",
              "       [ 54445],\n",
              "       [105582],\n",
              "       [ 43525],\n",
              "       [ 39343],\n",
              "       [ 98273],\n",
              "       [ 67938],\n",
              "       [ 56957]])"
            ]
          },
          "metadata": {},
          "execution_count": 89
        }
      ]
    },
    {
      "cell_type": "code",
      "source": [
        "# Displaying the test set\n",
        "x_test\n",
        "y_test\n"
      ],
      "metadata": {
        "colab": {
          "base_uri": "https://localhost:8080/"
        },
        "id": "kBNrihV9xr57",
        "outputId": "4ca29bae-0caa-4056-a7ee-baad71d10368"
      },
      "execution_count": null,
      "outputs": [
        {
          "output_type": "execute_result",
          "data": {
            "text/plain": [
              "array([[ 37731],\n",
              "       [122391],\n",
              "       [ 57081],\n",
              "       [ 63218],\n",
              "       [116969],\n",
              "       [109431],\n",
              "       [112635],\n",
              "       [ 55794],\n",
              "       [ 83088],\n",
              "       [101302]])"
            ]
          },
          "metadata": {},
          "execution_count": 90
        }
      ]
    },
    {
      "cell_type": "code",
      "source": [
        "# Fitting a Simple Linear Regression model to the training dataset\n",
        "from sklearn.linear_model import LinearRegression\n",
        "\n",
        "regressor = LinearRegression()\n",
        "regressor.fit(x_train, y_train)"
      ],
      "metadata": {
        "colab": {
          "base_uri": "https://localhost:8080/",
          "height": 75
        },
        "id": "IoGHLP5_xwM5",
        "outputId": "2a9fe6d7-03ca-42c7-e5df-523478485be4"
      },
      "execution_count": null,
      "outputs": [
        {
          "output_type": "execute_result",
          "data": {
            "text/plain": [
              "LinearRegression()"
            ],
            "text/html": [
              "<style>#sk-container-id-2 {color: black;background-color: white;}#sk-container-id-2 pre{padding: 0;}#sk-container-id-2 div.sk-toggleable {background-color: white;}#sk-container-id-2 label.sk-toggleable__label {cursor: pointer;display: block;width: 100%;margin-bottom: 0;padding: 0.3em;box-sizing: border-box;text-align: center;}#sk-container-id-2 label.sk-toggleable__label-arrow:before {content: \"▸\";float: left;margin-right: 0.25em;color: #696969;}#sk-container-id-2 label.sk-toggleable__label-arrow:hover:before {color: black;}#sk-container-id-2 div.sk-estimator:hover label.sk-toggleable__label-arrow:before {color: black;}#sk-container-id-2 div.sk-toggleable__content {max-height: 0;max-width: 0;overflow: hidden;text-align: left;background-color: #f0f8ff;}#sk-container-id-2 div.sk-toggleable__content pre {margin: 0.2em;color: black;border-radius: 0.25em;background-color: #f0f8ff;}#sk-container-id-2 input.sk-toggleable__control:checked~div.sk-toggleable__content {max-height: 200px;max-width: 100%;overflow: auto;}#sk-container-id-2 input.sk-toggleable__control:checked~label.sk-toggleable__label-arrow:before {content: \"▾\";}#sk-container-id-2 div.sk-estimator input.sk-toggleable__control:checked~label.sk-toggleable__label {background-color: #d4ebff;}#sk-container-id-2 div.sk-label input.sk-toggleable__control:checked~label.sk-toggleable__label {background-color: #d4ebff;}#sk-container-id-2 input.sk-hidden--visually {border: 0;clip: rect(1px 1px 1px 1px);clip: rect(1px, 1px, 1px, 1px);height: 1px;margin: -1px;overflow: hidden;padding: 0;position: absolute;width: 1px;}#sk-container-id-2 div.sk-estimator {font-family: monospace;background-color: #f0f8ff;border: 1px dotted black;border-radius: 0.25em;box-sizing: border-box;margin-bottom: 0.5em;}#sk-container-id-2 div.sk-estimator:hover {background-color: #d4ebff;}#sk-container-id-2 div.sk-parallel-item::after {content: \"\";width: 100%;border-bottom: 1px solid gray;flex-grow: 1;}#sk-container-id-2 div.sk-label:hover label.sk-toggleable__label {background-color: #d4ebff;}#sk-container-id-2 div.sk-serial::before {content: \"\";position: absolute;border-left: 1px solid gray;box-sizing: border-box;top: 0;bottom: 0;left: 50%;z-index: 0;}#sk-container-id-2 div.sk-serial {display: flex;flex-direction: column;align-items: center;background-color: white;padding-right: 0.2em;padding-left: 0.2em;position: relative;}#sk-container-id-2 div.sk-item {position: relative;z-index: 1;}#sk-container-id-2 div.sk-parallel {display: flex;align-items: stretch;justify-content: center;background-color: white;position: relative;}#sk-container-id-2 div.sk-item::before, #sk-container-id-2 div.sk-parallel-item::before {content: \"\";position: absolute;border-left: 1px solid gray;box-sizing: border-box;top: 0;bottom: 0;left: 50%;z-index: -1;}#sk-container-id-2 div.sk-parallel-item {display: flex;flex-direction: column;z-index: 1;position: relative;background-color: white;}#sk-container-id-2 div.sk-parallel-item:first-child::after {align-self: flex-end;width: 50%;}#sk-container-id-2 div.sk-parallel-item:last-child::after {align-self: flex-start;width: 50%;}#sk-container-id-2 div.sk-parallel-item:only-child::after {width: 0;}#sk-container-id-2 div.sk-dashed-wrapped {border: 1px dashed gray;margin: 0 0.4em 0.5em 0.4em;box-sizing: border-box;padding-bottom: 0.4em;background-color: white;}#sk-container-id-2 div.sk-label label {font-family: monospace;font-weight: bold;display: inline-block;line-height: 1.2em;}#sk-container-id-2 div.sk-label-container {text-align: center;}#sk-container-id-2 div.sk-container {/* jupyter's `normalize.less` sets `[hidden] { display: none; }` but bootstrap.min.css set `[hidden] { display: none !important; }` so we also need the `!important` here to be able to override the default hidden behavior on the sphinx rendered scikit-learn.org. See: https://github.com/scikit-learn/scikit-learn/issues/21755 */display: inline-block !important;position: relative;}#sk-container-id-2 div.sk-text-repr-fallback {display: none;}</style><div id=\"sk-container-id-2\" class=\"sk-top-container\"><div class=\"sk-text-repr-fallback\"><pre>LinearRegression()</pre><b>In a Jupyter environment, please rerun this cell to show the HTML representation or trust the notebook. <br />On GitHub, the HTML representation is unable to render, please try loading this page with nbviewer.org.</b></div><div class=\"sk-container\" hidden><div class=\"sk-item\"><div class=\"sk-estimator sk-toggleable\"><input class=\"sk-toggleable__control sk-hidden--visually\" id=\"sk-estimator-id-2\" type=\"checkbox\" checked><label for=\"sk-estimator-id-2\" class=\"sk-toggleable__label sk-toggleable__label-arrow\">LinearRegression</label><div class=\"sk-toggleable__content\"><pre>LinearRegression()</pre></div></div></div></div></div>"
            ]
          },
          "metadata": {},
          "execution_count": 91
        }
      ]
    },
    {
      "cell_type": "code",
      "source": [],
      "metadata": {
        "id": "TZNJ0iH1yILw"
      },
      "execution_count": null,
      "outputs": []
    },
    {
      "cell_type": "markdown",
      "source": [
        "**1.\tfrom sklearn.linear_model import LinearRegression:**\n",
        "\n",
        "This line imports the LinearRegression class from the linear_model module in scikit-learn. LinearRegression is a machine learning model class used for simple linear regression, where the relationship between the input features and the target variable is assumed to be linear.\n",
        "\n",
        "**2.\tregressor = LinearRegression():**\n",
        "\n",
        "This line creates an instance of the LinearRegression class and assigns it to the variable regressor. This instance will represent our linear regression model.\n",
        "\n",
        "**3.\tregressor.fit(x_train, y_train):**\n",
        "\n",
        "This line fits the linear regression model to the training dataset. The fit method is used to train the model on the provided training data.\n",
        "\n",
        "**•\tx_train:** This is the two-dimensional NumPy array containing the input features of the training dataset. It is used to train the model and learn the relationship between the input features and the target variable.\n",
        "\n",
        "**•\ty_train:** This is the two-dimensional NumPy array containing the target variable (labels) of the training dataset. It is used to train the model and establish the corresponding target values for the input features.\n",
        "The fitting process involves finding the best-fitting line (in the case of simple linear regression) that minimizes the difference between the predicted values and the actual target values in the training dataset. The fitted model is now ready to make predictions on new, unseen data.\n",
        "\n",
        "\n",
        "**Overview:**\n",
        "\n",
        "To summarize, the code creates and fits a simple linear regression model to the training dataset using scikit-learn's LinearRegression class. Once the model is fitted, it can be used to predict the target variable for new input data based on the learned relationship between the input features and the target variable from the training data.\n",
        "\n"
      ],
      "metadata": {
        "id": "JeezZJ-cynuQ"
      }
    },
    {
      "cell_type": "code",
      "source": [
        "# Predicting the target variable for the test set\n",
        "y_pred = regressor.predict(x_test)\n",
        "x_pred = regressor.predict(x_train)\n"
      ],
      "metadata": {
        "id": "nM2Biln9yodn"
      },
      "execution_count": null,
      "outputs": []
    },
    {
      "cell_type": "code",
      "source": [],
      "metadata": {
        "id": "otAuBCetzquR"
      },
      "execution_count": null,
      "outputs": []
    },
    {
      "cell_type": "markdown",
      "source": [
        "**1.\tPredicting target variable values for the test set:**\n",
        "\n",
        "•         Use the trained linear regression model (regressor) to predict the target variable values for the test set.\n",
        "\n",
        "•         Call the predict method on regressor and pass the test set feature data (x_test) as an argument.\n",
        "\n",
        "•         Assign the predicted values to the variable y_pred.\n",
        "\n",
        "**2.  \tPredicting target variable values for the training set:**\n",
        "\n",
        "•         Use the same trained linear regression model (regressor) to predict the target variable values for the training set.\n",
        "\n",
        "•         Call the predict method on regressor and pass the training set feature data (x_train) as an argument.\n",
        "\n",
        "•         Assign the predicted values to the variable x_pred.\n"
      ],
      "metadata": {
        "id": "kjPIZhxpz44A"
      }
    },
    {
      "cell_type": "code",
      "source": [],
      "metadata": {
        "id": "ikgrhWBw0ING"
      },
      "execution_count": null,
      "outputs": []
    },
    {
      "cell_type": "markdown",
      "source": [
        "**A.** After executing these steps, **y_pred** will contain the predicted target variable values for the test set, and **x_pred** will contain the predicted target variable values for the training set.\n",
        "\n",
        "**B.** These predictions can be compared with the actual target variable values **(y_test and y_train, respectively)** to evaluate the performance of the linear regression model."
      ],
      "metadata": {
        "id": "sKJmCM400RCN"
      }
    },
    {
      "cell_type": "code",
      "source": [
        "# Displaying the predicted values\n",
        "y_pred = regressor.predict(x_test)\n",
        "print(\"\\033[1mPredicted Values:\\033[0m\")\n",
        "print(y_pred)\n",
        "\n",
        "# Displaying the actual test set target values\n",
        "print(\"\\033[1mActual Test Set Target Values:\\033[0m\")\n",
        "print(y_test)\n",
        "\n",
        "# Displaying the corresponding input features of the test set\n",
        "print(\"\\033[1mInput Features of the Test Set:\\033[0m\")\n",
        "print(x_test)"
      ],
      "metadata": {
        "colab": {
          "base_uri": "https://localhost:8080/"
        },
        "id": "eF1tpTap0RYh",
        "outputId": "ef91afa3-9098-44ff-8d1b-51767d891839"
      },
      "execution_count": null,
      "outputs": [
        {
          "output_type": "stream",
          "name": "stdout",
          "text": [
            "\u001b[1mPredicted Values:\u001b[0m\n",
            "[[ 40835.10590871]\n",
            " [123079.39940819]\n",
            " [ 65134.55626083]\n",
            " [ 63265.36777221]\n",
            " [115602.64545369]\n",
            " [108125.8914992 ]\n",
            " [116537.23969801]\n",
            " [ 64199.96201652]\n",
            " [ 76349.68719258]\n",
            " [100649.1375447 ]]\n",
            "\u001b[1mActual Test Set Target Values:\u001b[0m\n",
            "[[ 37731]\n",
            " [122391]\n",
            " [ 57081]\n",
            " [ 63218]\n",
            " [116969]\n",
            " [109431]\n",
            " [112635]\n",
            " [ 55794]\n",
            " [ 83088]\n",
            " [101302]]\n",
            "\u001b[1mInput Features of the Test Set:\u001b[0m\n",
            "[[ 1.5]\n",
            " [10.3]\n",
            " [ 4.1]\n",
            " [ 3.9]\n",
            " [ 9.5]\n",
            " [ 8.7]\n",
            " [ 9.6]\n",
            " [ 4. ]\n",
            " [ 5.3]\n",
            " [ 7.9]]\n"
          ]
        }
      ]
    },
    {
      "cell_type": "code",
      "source": [
        "# Plotting the training set results\n",
        "plt.scatter(x_train, y_train, color=\"green\")\n",
        "plt.plot(x_train, x_pred, color=\"red\")\n",
        "plt.title(\"Salary vs Experience (Training Dataset)\")\n",
        "plt.xlabel(\"Years of Experience\")\n",
        "plt.ylabel(\"Salary (In Rupees)\")\n",
        "plt.show()\n"
      ],
      "metadata": {
        "colab": {
          "base_uri": "https://localhost:8080/",
          "height": 472
        },
        "id": "rG2xg-BO0koT",
        "outputId": "6d52eba3-b619-4132-f5df-1ce6408853c9"
      },
      "execution_count": null,
      "outputs": [
        {
          "output_type": "display_data",
          "data": {
            "text/plain": [
              "<Figure size 640x480 with 1 Axes>"
            ],
            "image/png": "[encoded data removed]"
          },
          "metadata": {}
        }
      ]
    },
    {
      "cell_type": "code",
      "source": [],
      "metadata": {
        "id": "XAgej7N51d3U"
      },
      "execution_count": null,
      "outputs": []
    },
    {
      "cell_type": "markdown",
      "source": [
        "**1.\tplt.scatter(x_train, y_train, color=\"green\"):**\n",
        "\n",
        "This line creates a scatter plot of the training set data points. It uses x_train (input features - years of experience) on the x-axis and y_train (target variable - salary) on the y-axis. The data points are represented by green markers.\n",
        "\n",
        "**2.\tplt.plot(x_train, x_pred, color=\"red\"):**\n",
        "\n",
        "This line plots the predicted values based on the training set data. x_train is used as the x-axis values (years of experience), and x_pred contains the corresponding predicted salaries for the training data. The line is drawn in red color, representing the relationship learned by the linear regression model.\n",
        "\n",
        "**3.\tplt.title(\"Salary vs Experience (Training Dataset)\"):**\n",
        "\n",
        "This sets the title of the plot as \"Salary vs Experience (Training Dataset)\".\n",
        "\n",
        "**4.\tplt.xlabel(\"Years of Experience\"):**\n",
        "\n",
        "This sets the label for the x-axis as \"Years of Experience\".\n",
        "\n",
        "**5.\tplt.ylabel(\"Salary (In Rupees)\"):**\n",
        "\n",
        "This sets the label for the y-axis as \"Salary (In Rupees)\".\n",
        "\n",
        "**6.\tplt.show():**\n",
        "\n",
        "This displays the plot on the screen.\n",
        "\n",
        "**Overview:**\n",
        "\n",
        "After executing these steps, you should see a scatter plot with the actual training data points represented as green dots, and a line plot representing the predicted values by the linear regression model, colored in red. The plot will have a title, x-axis label, and y-axis label. This visualization helps understand the relationship between years of experience and salary based on the training dataset and how well the linear regression model fits the data.\n",
        "\n"
      ],
      "metadata": {
        "id": "J3FiRrBz1x_e"
      }
    },
    {
      "cell_type": "code",
      "source": [
        "# Plotting the test set results\n",
        "plt.scatter(x_test, y_test, color=\"blue\")\n",
        "plt.plot(x_train, x_pred, color=\"red\")\n",
        "plt.title(\"Salary vs Experience (Test Dataset)\")\n",
        "plt.xlabel(\"Years of Experience\")\n",
        "plt.ylabel(\"Salary (In Rupees)\")\n",
        "plt.show()\n"
      ],
      "metadata": {
        "colab": {
          "base_uri": "https://localhost:8080/",
          "height": 472
        },
        "id": "T0EajjLU10qx",
        "outputId": "b376800b-6b3e-4169-f14b-ff9b487ca09c"
      },
      "execution_count": null,
      "outputs": [
        {
          "output_type": "display_data",
          "data": {
            "text/plain": [
              "<Figure size 640x480 with 1 Axes>"
            ],
            "image/png": "[encoded data removed]"
          },
          "metadata": {}
        }
      ]
    },
    {
      "cell_type": "code",
      "source": [],
      "metadata": {
        "id": "yS2cJK8_2QBe"
      },
      "execution_count": null,
      "outputs": []
    },
    {
      "cell_type": "markdown",
      "source": [
        "1.\tplt.scatter(x_test, y_test, color=\"blue\"): This line creates a scatter plot of the test set data points. It uses x_test (input features - years of experience) on the x-axis and y_test (target variable - salary) on the y-axis. The data points are represented by blue markers.\n",
        "2.\tplt.plot(x_train, x_pred, color=\"red\"): This line plots the predicted values based on the training set data. x_train is used as the x-axis values (years of experience), and x_pred contains the corresponding predicted salaries for the training data. The line is drawn in red color, representing the relationship learned by the linear regression model. Note that the same x_pred values from the training set are used for the test set as well, which might not be appropriate for a proper representation.\n",
        "3.\tplt.title(\"Salary vs Experience (Test Dataset)\"): This sets the title of the plot as \"Salary vs Experience (Test Dataset)\".\n",
        "4.\tplt.xlabel(\"Years of Experience\"): This sets the label for the x-axis as \"Years of Experience\".\n",
        "5.\tplt.ylabel(\"Salary (In Rupees)\"): This sets the label for the y-axis as \"Salary (In Rupees)\".\n",
        "6.\tplt.show(): This displays the plot on the screen.\n",
        "\n",
        "**Overview:**\n",
        "\n",
        "After executing these steps, you should see a scatter plot with the actual test data points represented as blue dots, and a line plot representing the predicted values by the linear regression model, colored in red. The plot will have a title, x-axis label, and y-axis label. This visualization helps understand the relationship between years of experience and salary based on the test dataset and how well the linear regression model predicts the salary values."
      ],
      "metadata": {
        "id": "d3Jqfru82m5W"
      }
    },
    {
      "cell_type": "code",
      "source": [
        "# Saving the trained model using joblib\n",
        "import joblib\n",
        "joblib.dump(regressor, 'Single_Linear_Regression_model.pkl')\n"
      ],
      "metadata": {
        "colab": {
          "base_uri": "https://localhost:8080/"
        },
        "id": "2NhbcSXD2tTu",
        "outputId": "1ef8431c-e157-4ac4-f46d-cb3061090399"
      },
      "execution_count": null,
      "outputs": [
        {
          "output_type": "execute_result",
          "data": {
            "text/plain": [
              "['Single_Linear_Regression_model.pkl']"
            ]
          },
          "metadata": {},
          "execution_count": 97
        }
      ]
    },
    {
      "cell_type": "code",
      "source": [],
      "metadata": {
        "id": "6dtUbzA82wjV"
      },
      "execution_count": null,
      "outputs": []
    },
    {
      "cell_type": "markdown",
      "source": [
        "The code snippet you provided is used to save the trained linear regression model using the joblib library. Here's a breakdown of the code in points:\n",
        "\n",
        "**1.  \tImport the joblib module:**\n",
        "\n",
        "•         This line imports the joblib module, which provides functions for saving and loading Python objects.\n",
        "\n",
        "**2.  \tSave the trained model:**\n",
        "\n",
        "•         Use the joblib.dump() function to save the trained linear regression model.\n",
        "\n",
        "•         Pass the trained model object (regressor) as the first argument.\n",
        "\n",
        "•         Provide the desired filename and extension as the second argument ('Single_Linear_Regression_model.pkl' in this case).\n",
        "\n",
        "•         The .pkl extension is commonly used for joblib serialized objects.\n",
        "\n",
        "**Overview:**\n",
        "\n",
        "**A.** After executing this code, the trained linear regression model (regressor) will be saved to the specified file location with the filename 'Single_Linear_Regression_model.pkl'. This file will contain all the information necessary to reload and use the trained model in the future..\n",
        "\n",
        "**B.** You can later load the saved model using the joblib.load() function to reuse it for making predictions on new data without having to retrain the model from scratch.\n",
        "\n"
      ],
      "metadata": {
        "id": "Q3uxOiOK21dR"
      }
    },
    {
      "cell_type": "code",
      "source": [
        "# Loading the saved model\n",
        "model = joblib.load('Single_Linear_Regression_model.pkl')\n"
      ],
      "metadata": {
        "id": "V1SIc4bs3a29"
      },
      "execution_count": null,
      "outputs": []
    },
    {
      "cell_type": "code",
      "source": [],
      "metadata": {
        "id": "A1lKxeC93hF6"
      },
      "execution_count": null,
      "outputs": []
    },
    {
      "cell_type": "markdown",
      "source": [
        "The code snippet you provided is used to load a saved linear regression model using the joblib library. Here's a breakdown of the code in points:\n",
        "\n",
        "**1.  \tLoad the saved model:**\n",
        "\n",
        "•         Use the joblib.load() function to load the saved linear regression model.\n",
        "\n",
        "•         Pass the filename or path of the saved model file as the argument ('Single_Linear_Regression_model.pkl' in this case).\n",
        "\n",
        "**2.  \tAssign the loaded model to a variable:**\n",
        "\n",
        "•         Assign the loaded model object to a variable (model in this case).\n",
        "\n",
        "•         This variable can be used to make predictions on new data using the loaded model.\n",
        "\n",
        "**Overview:**\n",
        "\n",
        "After executing this code, the saved linear regression model stored in the file 'Single_Linear_Regression_model.pkl' will be loaded into memory and assigned to the variable model. You can now use the model variable to make predictions on new data without having to retrain the model.\n"
      ],
      "metadata": {
        "id": "W38WMES_3hYx"
      }
    },
    {
      "cell_type": "code",
      "source": [
        "# User input for prediction\n",
        "years_of_experience = float(input(\"Enter years of experience: \"))\n",
        "\n",
        "# Predicting the salary based on user input\n",
        "predicted_salary = model.predict([[years_of_experience]])\n",
        "\n",
        "# Displaying the predicted salary\n",
        "print(\"Predicted Salary: \", predicted_salary)\n"
      ],
      "metadata": {
        "colab": {
          "base_uri": "https://localhost:8080/"
        },
        "id": "VnqoJ51N26U0",
        "outputId": "bf3db0c3-524e-4138-c7c9-edda958523fb"
      },
      "execution_count": null,
      "outputs": [
        {
          "output_type": "stream",
          "name": "stdout",
          "text": [
            "Enter years of experience: 2\n",
            "Predicted Salary:  [[45508.07713028]]\n"
          ]
        }
      ]
    },
    {
      "cell_type": "code",
      "source": [],
      "metadata": {
        "id": "jF9u0hcXRegu"
      },
      "execution_count": null,
      "outputs": []
    },
    {
      "cell_type": "markdown",
      "source": [
        "**1.\tyears_of_experience = float(input(\"Enter years of experience: \")):**\n",
        "\n",
        "This line prompts the user to enter the number of years of experience they have. The input() function takes the user's input as a string, and float() is used to convert it into a floating-point number, assuming the user enters a valid numeric value.\n",
        "\n",
        "**2.\tpredicted_salary = model.predict([[years_of_experience]]):**\n",
        "\n",
        "This line uses the loaded model (model) to make a prediction for the salary based on the user's input. The input to the predict() function is a two-dimensional array ([[years_of_experience]]), as the model expects the input in the form of a 2D array, even if it's just a single value being predicted.\n",
        "\n",
        "**3.\tprint(\"Predicted Salary: \", predicted_salary):**\n",
        "\n",
        "Finally, this line prints the predicted salary on the screen. The predicted_salary variable contains the result of the prediction made by the model. The exact format of the output will depend on the specific model and its output format. If it's a scikit-learn linear regression model, the predicted_salary will likely be a one-dimensional NumPy array with the predicted value.\n",
        "\n",
        "**Overview:**\n",
        "\n",
        "In summary, this code takes the user's input for years of experience, uses a pre-trained model to predict the salary based on that input, and then displays the predicted salary on the screen. The exact behavior of the code will depend on the model that was trained and saved earlier using joblib.dump().\n",
        "\n"
      ],
      "metadata": {
        "id": "hzQXXRRjReqe"
      }
    },
    {
      "cell_type": "code",
      "source": [],
      "metadata": {
        "id": "eeCi1GHFo9xo"
      },
      "execution_count": null,
      "outputs": []
    },
    {
      "cell_type": "code",
      "source": [],
      "metadata": {
        "id": "n_L3fZMjo91a"
      },
      "execution_count": null,
      "outputs": []
    },
    {
      "cell_type": "markdown",
      "source": [
        "**Points to load .pkl file from github repository:**\n",
        "\n",
        "1.You cannot directly use the URL in the open() function to access a file from GitHub. The open() function expects a local file path, not a URL.\n",
        "\n",
        "2.To load the .pkl file from GitHub into Google Colab, you can use the requests library to download the file and then load it using pickle."
      ],
      "metadata": {
        "id": "aSZyF5IEosj3"
      }
    },
    {
      "cell_type": "code",
      "source": [
        "import requests\n",
        "import pickle\n",
        "\n",
        "# Replace the URL with the raw URL of your .pkl file in GitHub\n",
        "url = 'https://raw.githubusercontent.com/9394113857/Dumped_Models/main/Single_Linear_Regression_model.pkl'\n",
        "\n",
        "# Download the .pkl file from GitHub\n",
        "response = requests.get(url)\n",
        "with open('Single_Linear_Regression_model.pkl', 'wb') as f:\n",
        "    f.write(response.content)\n",
        "\n",
        "# Load the model from the downloaded .pkl file\n",
        "with open('Single_Linear_Regression_model.pkl', 'rb') as f:\n",
        "    model = pickle.load(f)\n"
      ],
      "metadata": {
        "id": "jPbR7DYr3tTr"
      },
      "execution_count": null,
      "outputs": []
    },
    {
      "cell_type": "code",
      "source": [
        "# User input for prediction\n",
        "years_of_experience = float(input(\"Enter years of experience: \"))\n",
        "\n",
        "# Predicting the salary based on user input\n",
        "predicted_salary = model.predict([[years_of_experience]])\n",
        "\n",
        "# Displaying the predicted salary\n",
        "print(\"Predicted Salary: \", predicted_salary)\n"
      ],
      "metadata": {
        "colab": {
          "base_uri": "https://localhost:8080/"
        },
        "id": "lR11bECdpL5v",
        "outputId": "3d6d39b4-db7e-4990-83d7-2a5691c2f3af"
      },
      "execution_count": null,
      "outputs": [
        {
          "output_type": "stream",
          "name": "stdout",
          "text": [
            "Enter years of experience: 4.5\n",
            "Predicted Salary:  [[68872.93323808]]\n"
          ]
        }
      ]
    },
    {
      "cell_type": "code",
      "source": [],
      "metadata": {
        "id": "GV8Kt3kpq5aP"
      },
      "execution_count": null,
      "outputs": []
    }
  ]
}