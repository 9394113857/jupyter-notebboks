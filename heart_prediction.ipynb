{
  "nbformat": 4,
  "nbformat_minor": 0,
  "metadata": {
    "colab": {
      "provenance": []
    },
    "kernelspec": {
      "name": "python3",
      "display_name": "Python 3"
    },
    "language_info": {
      "name": "python"
    }
  },
  "cells": [
    {
      "cell_type": "code",
      "execution_count": null,
      "metadata": {
        "id": "w6CmEtJkFfzw"
      },
      "outputs": [],
      "source": [
        "import pandas as pd\n",
        "import pickle"
      ]
    },
    {
      "cell_type": "code",
      "source": [
        "# Load the dumped model\n",
        "model = pickle.load(open('heart_model.pkl', 'rb'))"
      ],
      "metadata": {
        "id": "7IsGUZkpGUns"
      },
      "execution_count": null,
      "outputs": []
    },
    {
      "cell_type": "code",
      "source": [
        "# Take input from the user\n",
        "age = int(input(\"Enter age: \"))\n",
        "sex = int(input(\"Enter sex (0 for female, 1 for male): \"))\n",
        "cp = int(input(\"Enter chest pain type (0-3): \"))\n",
        "trestbps = int(input(\"Enter resting blood pressure: \"))\n",
        "chol = int(input(\"Enter serum cholesterol level: \"))\n",
        "fbs = int(input(\"Enter fasting blood sugar (0 or 1): \"))\n",
        "restecg = int(input(\"Enter resting electrocardiographic results (0-2): \"))\n",
        "thalach = int(input(\"Enter maximum heart rate achieved: \"))\n",
        "exang = int(input(\"Enter exercise-induced angina (0 or 1): \"))\n",
        "oldpeak = float(input(\"Enter ST depression induced by exercise relative to rest: \"))\n",
        "slope = int(input(\"Enter the slope of the peak exercise ST segment (0-2): \"))\n",
        "ca = int(input(\"Enter number of major vessels (0-3) colored by fluoroscopy: \"))\n",
        "thal = int(input(\"Enter thalassemia (1-3): \"))\n",
        "\n",
        "# Create a new DataFrame with the user input\n",
        "user_input = pd.DataFrame(\n",
        "    {\n",
        "        'age': [age],\n",
        "        'sex': [sex],\n",
        "        'cp': [cp],\n",
        "        'trestbps': [trestbps],\n",
        "        'chol': [chol],\n",
        "        'fbs': [fbs],\n",
        "        'restecg': [restecg],\n",
        "        'thalach': [thalach],\n",
        "        'exang': [exang],\n",
        "        'oldpeak': [oldpeak],\n",
        "        'slope': [slope],\n",
        "        'ca': [ca],\n",
        "        'thal': [thal]\n",
        "    }\n",
        ")\n",
        "\n",
        "# Make predictions using the loaded model\n",
        "prediction = model.predict(user_input)\n",
        "\n",
        "# Print the predicted result\n",
        "if prediction[0] == 0:\n",
        "    print(\"The user is not likely to have heart disease.\")\n",
        "else:\n",
        "    print(\"The user is likely to have heart disease.\")\n"
      ],
      "metadata": {
        "id": "dmlzjdxgGbMx",
        "colab": {
          "base_uri": "https://localhost:8080/",
          "height": 849
        },
        "outputId": "a7b81411-0fe6-4d92-8155-7e9c7275e07f"
      },
      "execution_count": null,
      "outputs": [
        {
          "name": "stdout",
          "output_type": "stream",
          "text": [
            "Enter age: 45\n",
            "Enter sex (0 for female, 1 for male): 1\n",
            "Enter chest pain type (0-3): 2\n",
            "Enter resting blood pressure: 130\n",
            "Enter serum cholesterol level: 220\n",
            "Enter fasting blood sugar (0 or 1): 0\n",
            "Enter resting electrocardiographic results (0-2): 1\n",
            "Enter maximum heart rate achieved: 160\n",
            "Enter exercise-induced angina (0 or 1): 0\n",
            "Enter ST depression induced by exercise relative to rest: 1.5\n",
            "Enter the slope of the peak exercise ST segment (0-2): 2\n",
            "Enter number of major vessels (0-3) colored by fluoroscopy: 0\n",
            "Enter thalassemia (1-3): 2\n"
          ]
        },
        {
          "output_type": "error",
          "ename": "ValueError",
          "evalue": "ignored",
          "traceback": [
            "\u001b[0;31m---------------------------------------------------------------------------\u001b[0m",
            "\u001b[0;31mValueError\u001b[0m                                Traceback (most recent call last)",
            "\u001b[0;32m<ipython-input-11-2b6d1f772399>\u001b[0m in \u001b[0;36m<cell line: 36>\u001b[0;34m()\u001b[0m\n\u001b[1;32m     34\u001b[0m \u001b[0;34m\u001b[0m\u001b[0m\n\u001b[1;32m     35\u001b[0m \u001b[0;31m# Make predictions using the loaded model\u001b[0m\u001b[0;34m\u001b[0m\u001b[0;34m\u001b[0m\u001b[0m\n\u001b[0;32m---> 36\u001b[0;31m \u001b[0mprediction\u001b[0m \u001b[0;34m=\u001b[0m \u001b[0mmodel\u001b[0m\u001b[0;34m.\u001b[0m\u001b[0mpredict\u001b[0m\u001b[0;34m(\u001b[0m\u001b[0muser_input\u001b[0m\u001b[0;34m)\u001b[0m\u001b[0;34m\u001b[0m\u001b[0;34m\u001b[0m\u001b[0m\n\u001b[0m\u001b[1;32m     37\u001b[0m \u001b[0;34m\u001b[0m\u001b[0m\n\u001b[1;32m     38\u001b[0m \u001b[0;31m# Print the predicted result\u001b[0m\u001b[0;34m\u001b[0m\u001b[0;34m\u001b[0m\u001b[0m\n",
            "\u001b[0;32m/usr/local/lib/python3.10/dist-packages/sklearn/linear_model/_base.py\u001b[0m in \u001b[0;36mpredict\u001b[0;34m(self, X)\u001b[0m\n\u001b[1;32m    417\u001b[0m         \"\"\"\n\u001b[1;32m    418\u001b[0m         \u001b[0mxp\u001b[0m\u001b[0;34m,\u001b[0m \u001b[0m_\u001b[0m \u001b[0;34m=\u001b[0m \u001b[0mget_namespace\u001b[0m\u001b[0;34m(\u001b[0m\u001b[0mX\u001b[0m\u001b[0;34m)\u001b[0m\u001b[0;34m\u001b[0m\u001b[0;34m\u001b[0m\u001b[0m\n\u001b[0;32m--> 419\u001b[0;31m         \u001b[0mscores\u001b[0m \u001b[0;34m=\u001b[0m \u001b[0mself\u001b[0m\u001b[0;34m.\u001b[0m\u001b[0mdecision_function\u001b[0m\u001b[0;34m(\u001b[0m\u001b[0mX\u001b[0m\u001b[0;34m)\u001b[0m\u001b[0;34m\u001b[0m\u001b[0;34m\u001b[0m\u001b[0m\n\u001b[0m\u001b[1;32m    420\u001b[0m         \u001b[0;32mif\u001b[0m \u001b[0mlen\u001b[0m\u001b[0;34m(\u001b[0m\u001b[0mscores\u001b[0m\u001b[0;34m.\u001b[0m\u001b[0mshape\u001b[0m\u001b[0;34m)\u001b[0m \u001b[0;34m==\u001b[0m \u001b[0;36m1\u001b[0m\u001b[0;34m:\u001b[0m\u001b[0;34m\u001b[0m\u001b[0;34m\u001b[0m\u001b[0m\n\u001b[1;32m    421\u001b[0m             \u001b[0mindices\u001b[0m \u001b[0;34m=\u001b[0m \u001b[0mxp\u001b[0m\u001b[0;34m.\u001b[0m\u001b[0mastype\u001b[0m\u001b[0;34m(\u001b[0m\u001b[0mscores\u001b[0m \u001b[0;34m>\u001b[0m \u001b[0;36m0\u001b[0m\u001b[0;34m,\u001b[0m \u001b[0mint\u001b[0m\u001b[0;34m)\u001b[0m\u001b[0;34m\u001b[0m\u001b[0;34m\u001b[0m\u001b[0m\n",
            "\u001b[0;32m/usr/local/lib/python3.10/dist-packages/sklearn/linear_model/_base.py\u001b[0m in \u001b[0;36mdecision_function\u001b[0;34m(self, X)\u001b[0m\n\u001b[1;32m    398\u001b[0m         \u001b[0mxp\u001b[0m\u001b[0;34m,\u001b[0m \u001b[0m_\u001b[0m \u001b[0;34m=\u001b[0m \u001b[0mget_namespace\u001b[0m\u001b[0;34m(\u001b[0m\u001b[0mX\u001b[0m\u001b[0;34m)\u001b[0m\u001b[0;34m\u001b[0m\u001b[0;34m\u001b[0m\u001b[0m\n\u001b[1;32m    399\u001b[0m \u001b[0;34m\u001b[0m\u001b[0m\n\u001b[0;32m--> 400\u001b[0;31m         \u001b[0mX\u001b[0m \u001b[0;34m=\u001b[0m \u001b[0mself\u001b[0m\u001b[0;34m.\u001b[0m\u001b[0m_validate_data\u001b[0m\u001b[0;34m(\u001b[0m\u001b[0mX\u001b[0m\u001b[0;34m,\u001b[0m \u001b[0maccept_sparse\u001b[0m\u001b[0;34m=\u001b[0m\u001b[0;34m\"csr\"\u001b[0m\u001b[0;34m,\u001b[0m \u001b[0mreset\u001b[0m\u001b[0;34m=\u001b[0m\u001b[0;32mFalse\u001b[0m\u001b[0;34m)\u001b[0m\u001b[0;34m\u001b[0m\u001b[0;34m\u001b[0m\u001b[0m\n\u001b[0m\u001b[1;32m    401\u001b[0m         \u001b[0mscores\u001b[0m \u001b[0;34m=\u001b[0m \u001b[0msafe_sparse_dot\u001b[0m\u001b[0;34m(\u001b[0m\u001b[0mX\u001b[0m\u001b[0;34m,\u001b[0m \u001b[0mself\u001b[0m\u001b[0;34m.\u001b[0m\u001b[0mcoef_\u001b[0m\u001b[0;34m.\u001b[0m\u001b[0mT\u001b[0m\u001b[0;34m,\u001b[0m \u001b[0mdense_output\u001b[0m\u001b[0;34m=\u001b[0m\u001b[0;32mTrue\u001b[0m\u001b[0;34m)\u001b[0m \u001b[0;34m+\u001b[0m \u001b[0mself\u001b[0m\u001b[0;34m.\u001b[0m\u001b[0mintercept_\u001b[0m\u001b[0;34m\u001b[0m\u001b[0;34m\u001b[0m\u001b[0m\n\u001b[1;32m    402\u001b[0m         \u001b[0;32mreturn\u001b[0m \u001b[0mxp\u001b[0m\u001b[0;34m.\u001b[0m\u001b[0mreshape\u001b[0m\u001b[0;34m(\u001b[0m\u001b[0mscores\u001b[0m\u001b[0;34m,\u001b[0m \u001b[0;34m-\u001b[0m\u001b[0;36m1\u001b[0m\u001b[0;34m)\u001b[0m \u001b[0;32mif\u001b[0m \u001b[0mscores\u001b[0m\u001b[0;34m.\u001b[0m\u001b[0mshape\u001b[0m\u001b[0;34m[\u001b[0m\u001b[0;36m1\u001b[0m\u001b[0;34m]\u001b[0m \u001b[0;34m==\u001b[0m \u001b[0;36m1\u001b[0m \u001b[0;32melse\u001b[0m \u001b[0mscores\u001b[0m\u001b[0;34m\u001b[0m\u001b[0;34m\u001b[0m\u001b[0m\n",
            "\u001b[0;32m/usr/local/lib/python3.10/dist-packages/sklearn/base.py\u001b[0m in \u001b[0;36m_validate_data\u001b[0;34m(self, X, y, reset, validate_separately, **check_params)\u001b[0m\n\u001b[1;32m    546\u001b[0m             \u001b[0mvalidated\u001b[0m\u001b[0;34m.\u001b[0m\u001b[0;34m\u001b[0m\u001b[0;34m\u001b[0m\u001b[0m\n\u001b[1;32m    547\u001b[0m         \"\"\"\n\u001b[0;32m--> 548\u001b[0;31m         \u001b[0mself\u001b[0m\u001b[0;34m.\u001b[0m\u001b[0m_check_feature_names\u001b[0m\u001b[0;34m(\u001b[0m\u001b[0mX\u001b[0m\u001b[0;34m,\u001b[0m \u001b[0mreset\u001b[0m\u001b[0;34m=\u001b[0m\u001b[0mreset\u001b[0m\u001b[0;34m)\u001b[0m\u001b[0;34m\u001b[0m\u001b[0;34m\u001b[0m\u001b[0m\n\u001b[0m\u001b[1;32m    549\u001b[0m \u001b[0;34m\u001b[0m\u001b[0m\n\u001b[1;32m    550\u001b[0m         \u001b[0;32mif\u001b[0m \u001b[0my\u001b[0m \u001b[0;32mis\u001b[0m \u001b[0;32mNone\u001b[0m \u001b[0;32mand\u001b[0m \u001b[0mself\u001b[0m\u001b[0;34m.\u001b[0m\u001b[0m_get_tags\u001b[0m\u001b[0;34m(\u001b[0m\u001b[0;34m)\u001b[0m\u001b[0;34m[\u001b[0m\u001b[0;34m\"requires_y\"\u001b[0m\u001b[0;34m]\u001b[0m\u001b[0;34m:\u001b[0m\u001b[0;34m\u001b[0m\u001b[0;34m\u001b[0m\u001b[0m\n",
            "\u001b[0;32m/usr/local/lib/python3.10/dist-packages/sklearn/base.py\u001b[0m in \u001b[0;36m_check_feature_names\u001b[0;34m(self, X, reset)\u001b[0m\n\u001b[1;32m    479\u001b[0m                 )\n\u001b[1;32m    480\u001b[0m \u001b[0;34m\u001b[0m\u001b[0m\n\u001b[0;32m--> 481\u001b[0;31m             \u001b[0;32mraise\u001b[0m \u001b[0mValueError\u001b[0m\u001b[0;34m(\u001b[0m\u001b[0mmessage\u001b[0m\u001b[0;34m)\u001b[0m\u001b[0;34m\u001b[0m\u001b[0;34m\u001b[0m\u001b[0m\n\u001b[0m\u001b[1;32m    482\u001b[0m \u001b[0;34m\u001b[0m\u001b[0m\n\u001b[1;32m    483\u001b[0m     def _validate_data(\n",
            "\u001b[0;31mValueError\u001b[0m: The feature names should match those that were passed during fit.\nFeature names unseen at fit time:\n- ca\n- chol\n- cp\n- exang\n- fbs\n- ...\nFeature names seen at fit time, yet now missing:\n- chest\n- exercise_induced_angina\n- fasting_blood_sugar\n- maximum_heart_rate_achieved\n- number_of_major_vessels\n- ...\n"
          ]
        }
      ]
    },
    {
      "cell_type": "code",
      "source": [
        "# Enter age: 45\n",
        "# Enter sex (0 for female, 1 for male): 1\n",
        "# Enter cp (chest pain type): 2\n",
        "# Enter trestbps (resting blood pressure): 130\n",
        "# Enter chol (serum cholesterol level): 220\n",
        "# Enter fbs (fasting blood sugar > 120 mg/dl): 0\n",
        "# Enter restecg (resting electrocardiographic results): 1\n",
        "# Enter thalach (maximum heart rate achieved): 160\n",
        "# Enter exang (exercise-induced angina): 0\n",
        "# Enter oldpeak (ST depression induced by exercise relative to rest): 1.5\n",
        "# Enter slope (the slope of the peak exercise ST segment): 2\n",
        "# Enter ca (number of major vessels colored by fluoroscopy): 0\n",
        "# Enter thal (thalassemia): 2\n",
        "# Prediction: [1]"
      ],
      "metadata": {
        "id": "vK404ESNTIFd"
      },
      "execution_count": null,
      "outputs": []
    },
    {
      "cell_type": "markdown",
      "source": [],
      "metadata": {
        "id": "9oLVuDYSHDR0"
      }
    },
    {
      "cell_type": "code",
      "source": [
        "# Enter age: 35\n",
        "# Enter sex (0 for female, 1 for male): 0\n",
        "# Enter cp (chest pain type): 0\n",
        "# Enter trestbps (resting blood pressure): 120\n",
        "# Enter chol (serum cholesterol level): 200\n",
        "# Enter fbs (fasting blood sugar > 120 mg/dl): 0\n",
        "# Enter restecg (resting electrocardiographic results): 0\n",
        "# Enter thalach (maximum heart rate achieved): 180\n",
        "# Enter exang (exercise-induced angina): 0\n",
        "# Enter oldpeak (ST depression induced by exercise relative to rest): 0.5\n",
        "# Enter slope (the slope of the peak exercise ST segment): 1\n",
        "# Enter ca (number of major vessels colored by fluoroscopy): 0\n",
        "# Enter thal (thalassemia): 1\n",
        "# Prediction: [0]\n"
      ],
      "metadata": {
        "id": "1gwY_BeIGtYH"
      },
      "execution_count": null,
      "outputs": []
    },
    {
      "cell_type": "code",
      "source": [],
      "metadata": {
        "id": "-w1kMoKiH8jr"
      },
      "execution_count": null,
      "outputs": []
    }
  ]
}