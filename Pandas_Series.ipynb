{
  "nbformat": 4,
  "nbformat_minor": 0,
  "metadata": {
    "colab": {
      "provenance": []
    },
    "kernelspec": {
      "name": "python3",
      "display_name": "Python 3"
    }
  },
  "cells": [
    {
      "cell_type": "markdown",
      "metadata": {
        "id": "FuO7erM32el2"
      },
      "source": [
        "Pandas is the most popular python library that is used for data analysis. It provides highly optimized performance with back-end source code is purely written in C or Python.\n",
        "\n",
        "We can analyze data in pandas with:\n",
        "\n",
        "- Series\n",
        "- DataFrames\n",
        "\n",
        "### Series:\n",
        "Series is one dimensional(1-D) array defined in pandas that can be used to store any data type.\n",
        "\n",
        "A Series is very similar to a NumPy array (in fact it is built on top of the NumPy array object). What differentiates the NumPy array from a Series, is that a Series can have axis labels, meaning it can be indexed by a label, instead of just a number location. It also doesn't need to hold numeric data, it can hold any arbitrary Python Object."
      ]
    },
    {
      "cell_type": "code",
      "metadata": {
        "id": "7mwWeT6E6xTZ"
      },
      "source": [
        "import numpy as np\n",
        "import pandas as pd"
      ],
      "execution_count": null,
      "outputs": []
    },
    {
      "cell_type": "code",
      "metadata": {
        "id": "CJ6146sk64wj"
      },
      "source": [
        "my_list = [10 , 20 , 30 , 40]\n",
        "arr = np.array(my_list)"
      ],
      "execution_count": null,
      "outputs": []
    },
    {
      "cell_type": "code",
      "metadata": {
        "colab": {
          "base_uri": "https://localhost:8080/"
        },
        "id": "iGbTArnS7MkH",
        "outputId": "bc19098c-45e7-4b9c-b912-4bab5afe9ef1"
      },
      "source": [
        "arr"
      ],
      "execution_count": null,
      "outputs": [
        {
          "output_type": "execute_result",
          "data": {
            "text/plain": [
              "array([10, 20, 30, 40])"
            ]
          },
          "metadata": {},
          "execution_count": 3
        }
      ]
    },
    {
      "cell_type": "code",
      "metadata": {
        "colab": {
          "base_uri": "https://localhost:8080/"
        },
        "id": "I6bGKz6l7N9O",
        "outputId": "1faec99c-b633-4571-a9e6-f329fd3360e7"
      },
      "source": [
        "pd.Series(data=my_list)"
      ],
      "execution_count": null,
      "outputs": [
        {
          "output_type": "execute_result",
          "data": {
            "text/plain": [
              "0    10\n",
              "1    20\n",
              "2    30\n",
              "3    40\n",
              "dtype: int64"
            ]
          },
          "metadata": {},
          "execution_count": 4
        }
      ]
    },
    {
      "cell_type": "code",
      "metadata": {
        "colab": {
          "base_uri": "https://localhost:8080/"
        },
        "id": "hODuulB47Wln",
        "outputId": "19209a63-5bad-4b6b-d96d-31f16d8b20a9"
      },
      "source": [
        "labels = ['a' , 'b' , 'c' , 'd']\n",
        "pd.Series(data = my_list , index=labels)"
      ],
      "execution_count": null,
      "outputs": [
        {
          "output_type": "execute_result",
          "data": {
            "text/plain": [
              "a    10\n",
              "b    20\n",
              "c    30\n",
              "d    40\n",
              "dtype: int64"
            ]
          },
          "metadata": {},
          "execution_count": 5
        }
      ]
    },
    {
      "cell_type": "code",
      "metadata": {
        "colab": {
          "base_uri": "https://localhost:8080/"
        },
        "id": "LY-KeaKN7toH",
        "outputId": "dc00ad2f-a17d-4ec5-bc16-6c7189aeba2e"
      },
      "source": [
        "#converting an array in to series\n",
        "\n",
        "pd.Series(arr , labels)"
      ],
      "execution_count": null,
      "outputs": [
        {
          "output_type": "execute_result",
          "data": {
            "text/plain": [
              "a    10\n",
              "b    20\n",
              "c    30\n",
              "d    40\n",
              "dtype: int64"
            ]
          },
          "metadata": {},
          "execution_count": 6
        }
      ]
    },
    {
      "cell_type": "code",
      "metadata": {
        "colab": {
          "base_uri": "https://localhost:8080/"
        },
        "id": "VDsrzt_C8GQQ",
        "outputId": "de8bfc4f-e70b-4e02-c9f3-0a4f43a9b524"
      },
      "source": [
        "#converting dictionary to series\n",
        "\n",
        "d = {'a':10 , 'b':20 , 'c':30 , 'd':40}\n",
        "pd.Series(data=d)"
      ],
      "execution_count": null,
      "outputs": [
        {
          "output_type": "execute_result",
          "data": {
            "text/plain": [
              "a    10\n",
              "b    20\n",
              "c    30\n",
              "d    40\n",
              "dtype: int64"
            ]
          },
          "metadata": {},
          "execution_count": 7
        }
      ]
    },
    {
      "cell_type": "code",
      "metadata": {
        "colab": {
          "base_uri": "https://localhost:8080/"
        },
        "id": "T1t9FHiP8gsz",
        "outputId": "7c8f7f5a-b7a0-4a3a-b5ad-b1a477ce6b45"
      },
      "source": [
        "#Series can hold a variety of object types\n",
        "\n",
        "pd.Series(data=labels)"
      ],
      "execution_count": null,
      "outputs": [
        {
          "output_type": "execute_result",
          "data": {
            "text/plain": [
              "0    a\n",
              "1    b\n",
              "2    c\n",
              "3    d\n",
              "dtype: object"
            ]
          },
          "metadata": {},
          "execution_count": 8
        }
      ]
    },
    {
      "cell_type": "code",
      "metadata": {
        "id": "sl4ybdWfBVRw"
      },
      "source": [
        "ser1 = pd.Series([1 , 2, 3, 4] , index= ['nandu' , 'nani' , 'venky' , 'jaswanth'])\n",
        "ser2 = pd.Series([1 , 2 , 4 , 6] , index=['nani' , 'chakri' , 'nandu' , 'venky'])"
      ],
      "execution_count": null,
      "outputs": []
    },
    {
      "cell_type": "code",
      "metadata": {
        "colab": {
          "base_uri": "https://localhost:8080/"
        },
        "id": "UTklNLziBopO",
        "outputId": "f68c2919-5a79-4717-baa8-6671d530533d"
      },
      "source": [
        "ser1\n"
      ],
      "execution_count": null,
      "outputs": [
        {
          "output_type": "execute_result",
          "data": {
            "text/plain": [
              "nandu       1\n",
              "nani        2\n",
              "venky       3\n",
              "jaswanth    4\n",
              "dtype: int64"
            ]
          },
          "metadata": {},
          "execution_count": 10
        }
      ]
    },
    {
      "cell_type": "code",
      "metadata": {
        "colab": {
          "base_uri": "https://localhost:8080/"
        },
        "id": "IarGpZYIBq9m",
        "outputId": "8cd11ebf-2aac-47fe-c675-d16134434a1a"
      },
      "source": [
        "ser2"
      ],
      "execution_count": null,
      "outputs": [
        {
          "output_type": "execute_result",
          "data": {
            "text/plain": [
              "nani      1\n",
              "chakri    2\n",
              "nandu     4\n",
              "venky     6\n",
              "dtype: int64"
            ]
          },
          "metadata": {},
          "execution_count": 11
        }
      ]
    },
    {
      "cell_type": "code",
      "metadata": {
        "colab": {
          "base_uri": "https://localhost:8080/"
        },
        "id": "oF5oDOvvBwgn",
        "outputId": "54bf9a0a-7de3-473d-beed-10802c3c9502"
      },
      "source": [
        "ser1['nandu']"
      ],
      "execution_count": null,
      "outputs": [
        {
          "output_type": "execute_result",
          "data": {
            "text/plain": [
              "1"
            ]
          },
          "metadata": {},
          "execution_count": 12
        }
      ]
    },
    {
      "cell_type": "code",
      "metadata": {
        "colab": {
          "base_uri": "https://localhost:8080/"
        },
        "id": "bK0BxJ0RB0NX",
        "outputId": "11ea3c1f-4d2e-4e35-ef9e-6beae6d23602"
      },
      "source": [
        "ser2['nandu']"
      ],
      "execution_count": null,
      "outputs": [
        {
          "output_type": "execute_result",
          "data": {
            "text/plain": [
              "4"
            ]
          },
          "metadata": {},
          "execution_count": 13
        }
      ]
    },
    {
      "cell_type": "code",
      "metadata": {
        "colab": {
          "base_uri": "https://localhost:8080/"
        },
        "id": "-e3lgFiqB94g",
        "outputId": "a087562f-48a1-4dba-ac06-99123e29139b"
      },
      "source": [
        "ser1.values"
      ],
      "execution_count": null,
      "outputs": [
        {
          "output_type": "execute_result",
          "data": {
            "text/plain": [
              "array([1, 2, 3, 4])"
            ]
          },
          "metadata": {},
          "execution_count": 14
        }
      ]
    },
    {
      "cell_type": "code",
      "metadata": {
        "colab": {
          "base_uri": "https://localhost:8080/"
        },
        "id": "hogZtio2CB_9",
        "outputId": "a64b9a02-befa-4840-8ab0-77648f992709"
      },
      "source": [
        "ser2.values"
      ],
      "execution_count": null,
      "outputs": [
        {
          "output_type": "execute_result",
          "data": {
            "text/plain": [
              "array([1, 2, 4, 6])"
            ]
          },
          "metadata": {},
          "execution_count": 15
        }
      ]
    },
    {
      "cell_type": "code",
      "metadata": {
        "colab": {
          "base_uri": "https://localhost:8080/"
        },
        "id": "jqoc5mDTCEI8",
        "outputId": "700baf33-889b-4d9a-a9f0-424a252e7a02"
      },
      "source": [
        "ser1 + ser2 #common index values are added"
      ],
      "execution_count": null,
      "outputs": [
        {
          "output_type": "execute_result",
          "data": {
            "text/plain": [
              "chakri      NaN\n",
              "jaswanth    NaN\n",
              "nandu       5.0\n",
              "nani        3.0\n",
              "venky       9.0\n",
              "dtype: float64"
            ]
          },
          "metadata": {},
          "execution_count": 16
        }
      ]
    },
    {
      "cell_type": "code",
      "source": [],
      "metadata": {
        "id": "s6mPazeDloX1"
      },
      "execution_count": null,
      "outputs": []
    }
  ]
}