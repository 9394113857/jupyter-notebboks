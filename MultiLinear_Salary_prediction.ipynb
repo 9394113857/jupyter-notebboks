{
  "nbformat": 4,
  "nbformat_minor": 0,
  "metadata": {
    "colab": {
      "provenance": []
    },
    "kernelspec": {
      "name": "python3",
      "display_name": "Python 3"
    },
    "language_info": {
      "name": "python"
    }
  },
  "cells": [
    {
      "cell_type": "code",
      "execution_count": null,
      "metadata": {
        "colab": {
          "base_uri": "https://localhost:8080/"
        },
        "id": "1QPlCymuZwkV",
        "outputId": "4628895c-bfba-40cd-f686-44edcfb9a0ae"
      },
      "outputs": [
        {
          "output_type": "stream",
          "name": "stdout",
          "text": [
            "[53290.89255945]\n"
          ]
        },
        {
          "output_type": "stream",
          "name": "stderr",
          "text": [
            "/usr/local/lib/python3.10/dist-packages/sklearn/base.py:439: UserWarning: X does not have valid feature names, but LinearRegression was fitted with feature names\n",
            "  warnings.warn(\n"
          ]
        }
      ],
      "source": [
        "# Load the saved model from the file and import pickle\n",
        "import pickle\n",
        "loaded_model = pickle.load(open('MultiLinear_Salary.pkl', 'rb'))\n",
        "\n",
        "# Use the loaded model to make predictions\n",
        "prediction = loaded_model.predict([[2, 9, 6]])\n",
        "print(prediction)\n"
      ]
    },
    {
      "cell_type": "code",
      "source": [],
      "metadata": {
        "id": "S80P6KTRZ6O6"
      },
      "execution_count": null,
      "outputs": []
    }
  ]
}