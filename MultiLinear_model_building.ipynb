{
  "nbformat": 4,
  "nbformat_minor": 0,
  "metadata": {
    "colab": {
      "provenance": []
    },
    "kernelspec": {
      "name": "python3",
      "display_name": "Python 3"
    },
    "language_info": {
      "name": "python"
    }
  },
  "cells": [
    {
      "cell_type": "code",
      "execution_count": null,
      "metadata": {
        "id": "3-PVnXRPubPv"
      },
      "outputs": [],
      "source": [
        "import pandas as pd\n",
        "from sklearn.linear_model import LinearRegression\n",
        "import pickle"
      ]
    },
    {
      "cell_type": "code",
      "source": [],
      "metadata": {
        "id": "Gtm6Ov3DaW5S"
      },
      "execution_count": null,
      "outputs": []
    },
    {
      "cell_type": "markdown",
      "source": [
        "**1.\timport pandas as pd:** Import the pandas library and give it an alias 'pd'. This library is commonly used for data manipulation and analysis.\n",
        "\n",
        "**2.\tfrom sklearn.linear_model import LinearRegression:** Import the LinearRegression class from the scikit-learn (sklearn) library. Sklearn is a popular machine learning library, and LinearRegression is a class used to create a linear regression model, which is a basic type of supervised learning algorithm for regression tasks.\n",
        "\n",
        "**3.\timport pickle:** Import the pickle module, which is a standard Python library used for serializing and deserializing Python objects. In this code, it will be used to save the trained model to disk.\n"
      ],
      "metadata": {
        "id": "lWToS1NzaKvJ"
      }
    },
    {
      "cell_type": "code",
      "source": [
        "# dataset = pd.read_csv('https://raw.githubusercontent.com/9394113857/Data-Sets/raghu/hiring.csv')"
      ],
      "metadata": {
        "id": "wx3MYdBsvMvJ"
      },
      "execution_count": null,
      "outputs": []
    },
    {
      "cell_type": "code",
      "source": [
        "dataset = pd.read_csv('https://raw.githubusercontent.com/9394113857/Predict-Salary-Analysis/raghu/hiring.csv')"
      ],
      "metadata": {
        "id": "gC0Jv1e0V06R"
      },
      "execution_count": null,
      "outputs": []
    },
    {
      "cell_type": "code",
      "source": [],
      "metadata": {
        "id": "5T4WMOeQasyS"
      },
      "execution_count": null,
      "outputs": []
    },
    {
      "cell_type": "markdown",
      "source": [
        "**1.\tpd:** It is the alias for the pandas library, which was imported earlier using the statement import pandas as pd.\n",
        "\n",
        "**2.\tread_csv:** This is a function provided by pandas to read data from a CSV (Comma Separated Values) file.\n",
        "\n",
        "**3.\t'https://raw.githubusercontent.com/9394113857/Predict-Salary-Analysis/raghu/hiring.csv':** This is the URL of the CSV file on GitHub. The data in this file is related to a \"Salary Prediction\" or \"Hiring\" analysis.\n",
        "\n",
        "**4.\tdataset = pd.read_csv(...):** This line of code calls the read_csv function with the provided URL as an argument and reads the data from the CSV file. The data is then stored in a pandas DataFrame named dataset.\n",
        "\n"
      ],
      "metadata": {
        "id": "tfOMlhm6as7E"
      }
    },
    {
      "cell_type": "code",
      "source": [
        "dataset.head() # retrieve the first few rows (by default, the first 5 rows) of the DataFrame.\n",
        "\n",
        "# dataset: Refers to the pandas DataFrame containing the data loaded from the CSV file.\n",
        "# .head(): This is a method in pandas that is used to retrieve the first few rows (by default, the first 5 rows) of the DataFrame."
      ],
      "metadata": {
        "id": "ERjLMGGFyluk",
        "colab": {
          "base_uri": "https://localhost:8080/",
          "height": 206
        },
        "outputId": "167a8b51-afe9-4186-def7-b66eeecb90b7"
      },
      "execution_count": null,
      "outputs": [
        {
          "output_type": "execute_result",
          "data": {
            "text/plain": [
              "  experience  test_score  interview_score  salary\n",
              "0        NaN         8.0                9   50000\n",
              "1        NaN         8.0                6   45000\n",
              "2       five         6.0                7   60000\n",
              "3        two        10.0               10   65000\n",
              "4      seven         9.0                6   70000"
            ],
            "text/html": [
              "\n",
              "\n",
              "  <div id=\"df-927fdf9f-6035-4283-aad4-972ed5c02426\">\n",
              "    <div class=\"colab-df-container\">\n",
              "      <div>\n",
              "<style scoped>\n",
              "    .dataframe tbody tr th:only-of-type {\n",
              "        vertical-align: middle;\n",
              "    }\n",
              "\n",
              "    .dataframe tbody tr th {\n",
              "        vertical-align: top;\n",
              "    }\n",
              "\n",
              "    .dataframe thead th {\n",
              "        text-align: right;\n",
              "    }\n",
              "</style>\n",
              "<table border=\"1\" class=\"dataframe\">\n",
              "  <thead>\n",
              "    <tr style=\"text-align: right;\">\n",
              "      <th></th>\n",
              "      <th>experience</th>\n",
              "      <th>test_score</th>\n",
              "      <th>interview_score</th>\n",
              "      <th>salary</th>\n",
              "    </tr>\n",
              "  </thead>\n",
              "  <tbody>\n",
              "    <tr>\n",
              "      <th>0</th>\n",
              "      <td>NaN</td>\n",
              "      <td>8.0</td>\n",
              "      <td>9</td>\n",
              "      <td>50000</td>\n",
              "    </tr>\n",
              "    <tr>\n",
              "      <th>1</th>\n",
              "      <td>NaN</td>\n",
              "      <td>8.0</td>\n",
              "      <td>6</td>\n",
              "      <td>45000</td>\n",
              "    </tr>\n",
              "    <tr>\n",
              "      <th>2</th>\n",
              "      <td>five</td>\n",
              "      <td>6.0</td>\n",
              "      <td>7</td>\n",
              "      <td>60000</td>\n",
              "    </tr>\n",
              "    <tr>\n",
              "      <th>3</th>\n",
              "      <td>two</td>\n",
              "      <td>10.0</td>\n",
              "      <td>10</td>\n",
              "      <td>65000</td>\n",
              "    </tr>\n",
              "    <tr>\n",
              "      <th>4</th>\n",
              "      <td>seven</td>\n",
              "      <td>9.0</td>\n",
              "      <td>6</td>\n",
              "      <td>70000</td>\n",
              "    </tr>\n",
              "  </tbody>\n",
              "</table>\n",
              "</div>\n",
              "      <button class=\"colab-df-convert\" onclick=\"convertToInteractive('df-927fdf9f-6035-4283-aad4-972ed5c02426')\"\n",
              "              title=\"Convert this dataframe to an interactive table.\"\n",
              "              style=\"display:none;\">\n",
              "\n",
              "  <svg xmlns=\"http://www.w3.org/2000/svg\" height=\"24px\"viewBox=\"0 0 24 24\"\n",
              "       width=\"24px\">\n",
              "    <path d=\"M0 0h24v24H0V0z\" fill=\"none\"/>\n",
              "    <path d=\"M18.56 5.44l.94 2.06.94-2.06 2.06-.94-2.06-.94-.94-2.06-.94 2.06-2.06.94zm-11 1L8.5 8.5l.94-2.06 2.06-.94-2.06-.94L8.5 2.5l-.94 2.06-2.06.94zm10 10l.94 2.06.94-2.06 2.06-.94-2.06-.94-.94-2.06-.94 2.06-2.06.94z\"/><path d=\"M17.41 7.96l-1.37-1.37c-.4-.4-.92-.59-1.43-.59-.52 0-1.04.2-1.43.59L10.3 9.45l-7.72 7.72c-.78.78-.78 2.05 0 2.83L4 21.41c.39.39.9.59 1.41.59.51 0 1.02-.2 1.41-.59l7.78-7.78 2.81-2.81c.8-.78.8-2.07 0-2.86zM5.41 20L4 18.59l7.72-7.72 1.47 1.35L5.41 20z\"/>\n",
              "  </svg>\n",
              "      </button>\n",
              "\n",
              "\n",
              "\n",
              "    <div id=\"df-ca0d0610-e29d-4ebd-82a7-5e6c3f6340d7\">\n",
              "      <button class=\"colab-df-quickchart\" onclick=\"quickchart('df-ca0d0610-e29d-4ebd-82a7-5e6c3f6340d7')\"\n",
              "              title=\"Suggest charts.\"\n",
              "              style=\"display:none;\">\n",
              "\n",
              "<svg xmlns=\"http://www.w3.org/2000/svg\" height=\"24px\"viewBox=\"0 0 24 24\"\n",
              "     width=\"24px\">\n",
              "    <g>\n",
              "        <path d=\"M19 3H5c-1.1 0-2 .9-2 2v14c0 1.1.9 2 2 2h14c1.1 0 2-.9 2-2V5c0-1.1-.9-2-2-2zM9 17H7v-7h2v7zm4 0h-2V7h2v10zm4 0h-2v-4h2v4z\"/>\n",
              "    </g>\n",
              "</svg>\n",
              "      </button>\n",
              "    </div>\n",
              "\n",
              "<style>\n",
              "  .colab-df-quickchart {\n",
              "    background-color: #E8F0FE;\n",
              "    border: none;\n",
              "    border-radius: 50%;\n",
              "    cursor: pointer;\n",
              "    display: none;\n",
              "    fill: #1967D2;\n",
              "    height: 32px;\n",
              "    padding: 0 0 0 0;\n",
              "    width: 32px;\n",
              "  }\n",
              "\n",
              "  .colab-df-quickchart:hover {\n",
              "    background-color: #E2EBFA;\n",
              "    box-shadow: 0px 1px 2px rgba(60, 64, 67, 0.3), 0px 1px 3px 1px rgba(60, 64, 67, 0.15);\n",
              "    fill: #174EA6;\n",
              "  }\n",
              "\n",
              "  [theme=dark] .colab-df-quickchart {\n",
              "    background-color: #3B4455;\n",
              "    fill: #D2E3FC;\n",
              "  }\n",
              "\n",
              "  [theme=dark] .colab-df-quickchart:hover {\n",
              "    background-color: #434B5C;\n",
              "    box-shadow: 0px 1px 3px 1px rgba(0, 0, 0, 0.15);\n",
              "    filter: drop-shadow(0px 1px 2px rgba(0, 0, 0, 0.3));\n",
              "    fill: #FFFFFF;\n",
              "  }\n",
              "</style>\n",
              "\n",
              "    <script>\n",
              "      async function quickchart(key) {\n",
              "        const containerElement = document.querySelector('#' + key);\n",
              "        const charts = await google.colab.kernel.invokeFunction(\n",
              "            'suggestCharts', [key], {});\n",
              "      }\n",
              "    </script>\n",
              "\n",
              "      <script>\n",
              "\n",
              "function displayQuickchartButton(domScope) {\n",
              "  let quickchartButtonEl =\n",
              "    domScope.querySelector('#df-ca0d0610-e29d-4ebd-82a7-5e6c3f6340d7 button.colab-df-quickchart');\n",
              "  quickchartButtonEl.style.display =\n",
              "    google.colab.kernel.accessAllowed ? 'block' : 'none';\n",
              "}\n",
              "\n",
              "        displayQuickchartButton(document);\n",
              "      </script>\n",
              "      <style>\n",
              "    .colab-df-container {\n",
              "      display:flex;\n",
              "      flex-wrap:wrap;\n",
              "      gap: 12px;\n",
              "    }\n",
              "\n",
              "    .colab-df-convert {\n",
              "      background-color: #E8F0FE;\n",
              "      border: none;\n",
              "      border-radius: 50%;\n",
              "      cursor: pointer;\n",
              "      display: none;\n",
              "      fill: #1967D2;\n",
              "      height: 32px;\n",
              "      padding: 0 0 0 0;\n",
              "      width: 32px;\n",
              "    }\n",
              "\n",
              "    .colab-df-convert:hover {\n",
              "      background-color: #E2EBFA;\n",
              "      box-shadow: 0px 1px 2px rgba(60, 64, 67, 0.3), 0px 1px 3px 1px rgba(60, 64, 67, 0.15);\n",
              "      fill: #174EA6;\n",
              "    }\n",
              "\n",
              "    [theme=dark] .colab-df-convert {\n",
              "      background-color: #3B4455;\n",
              "      fill: #D2E3FC;\n",
              "    }\n",
              "\n",
              "    [theme=dark] .colab-df-convert:hover {\n",
              "      background-color: #434B5C;\n",
              "      box-shadow: 0px 1px 3px 1px rgba(0, 0, 0, 0.15);\n",
              "      filter: drop-shadow(0px 1px 2px rgba(0, 0, 0, 0.3));\n",
              "      fill: #FFFFFF;\n",
              "    }\n",
              "  </style>\n",
              "\n",
              "      <script>\n",
              "        const buttonEl =\n",
              "          document.querySelector('#df-927fdf9f-6035-4283-aad4-972ed5c02426 button.colab-df-convert');\n",
              "        buttonEl.style.display =\n",
              "          google.colab.kernel.accessAllowed ? 'block' : 'none';\n",
              "\n",
              "        async function convertToInteractive(key) {\n",
              "          const element = document.querySelector('#df-927fdf9f-6035-4283-aad4-972ed5c02426');\n",
              "          const dataTable =\n",
              "            await google.colab.kernel.invokeFunction('convertToInteractive',\n",
              "                                                     [key], {});\n",
              "          if (!dataTable) return;\n",
              "\n",
              "          const docLinkHtml = 'Like what you see? Visit the ' +\n",
              "            '<a target=\"_blank\" href=https://colab.research.google.com/notebooks/data_table.ipynb>data table notebook</a>'\n",
              "            + ' to learn more about interactive tables.';\n",
              "          element.innerHTML = '';\n",
              "          dataTable['output_type'] = 'display_data';\n",
              "          await google.colab.output.renderOutput(dataTable, element);\n",
              "          const docLink = document.createElement('div');\n",
              "          docLink.innerHTML = docLinkHtml;\n",
              "          element.appendChild(docLink);\n",
              "        }\n",
              "      </script>\n",
              "    </div>\n",
              "  </div>\n"
            ]
          },
          "metadata": {},
          "execution_count": 50
        }
      ]
    },
    {
      "cell_type": "code",
      "source": [
        "# Fill missing values in 'experience' column with 0\n",
        "dataset['experience'].fillna(0, inplace=True)\n"
      ],
      "metadata": {
        "id": "dKyWdgbfynL2"
      },
      "execution_count": null,
      "outputs": []
    },
    {
      "cell_type": "code",
      "source": [],
      "metadata": {
        "id": "lQCxCO6vbnbT"
      },
      "execution_count": null,
      "outputs": []
    },
    {
      "cell_type": "markdown",
      "source": [
        "**1.\tdataset['experience']:** This selects the 'experience' column from the DataFrame dataset.\n",
        "\n",
        "**2.\tfillna(0, inplace=True):** This method is called on the 'experience' column to fill the missing values with 0. The fillna method is used to replace any NaN (Not a Number) or missing values with the specified value, which in this case is 0.\n",
        "\n",
        "**3.\tinplace=True:** This argument ensures that the changes are made directly to the original DataFrame dataset, without the need to create a new DataFrame.\n",
        "\n",
        "**Overview:**\n",
        "\n",
        "After executing this code, any missing values in the 'experience' column will be replaced with 0 in the original dataset. This can be helpful to handle missing data before performing any further analysis or modeling, as many machine learning algorithms may not handle missing values properly."
      ],
      "metadata": {
        "id": "KsrbJFD4bnnh"
      }
    },
    {
      "cell_type": "code",
      "source": [
        "# Fill missing values in 'test_score' column with the mean of the column\n",
        "dataset['test_score'].fillna(dataset['test_score'].mean(), inplace=True)\n"
      ],
      "metadata": {
        "id": "R-lsyYLF409N"
      },
      "execution_count": null,
      "outputs": []
    },
    {
      "cell_type": "code",
      "source": [],
      "metadata": {
        "id": "6l7C8NBxcSf5"
      },
      "execution_count": null,
      "outputs": []
    },
    {
      "cell_type": "markdown",
      "source": [
        "**1.\tdataset['test_score']:** This selects the 'test_score' column from the DataFrame dataset.\n",
        "\n",
        "**2.\tfillna(dataset['test_score'].mean(), inplace=True):** This method is called on the 'test_score' column to fill the missing values with the mean value of the column. The fillna method is used to replace any NaN (Not a Number) or missing values with the specified value, which in this case is the mean value of the 'test_score' column.\n",
        "\n",
        "**3.\tinplace=True:** This argument ensures that the changes are made directly to the original DataFrame dataset, without the need to create a new DataFrame.\n",
        "\n",
        "**Overview:**\n",
        "\n",
        "After executing this code, any missing values in the 'test_score' column will be replaced with the mean value of the 'test_score' column in the original dataset. This approach is one way to handle missing data in the 'test_score' column by imputing the mean value, which can help in maintaining the overall integrity of the data and avoiding any bias that could result from simply removing rows with missing values.\n",
        "\n"
      ],
      "metadata": {
        "id": "9zuWOW88cSso"
      }
    },
    {
      "cell_type": "code",
      "source": [
        "# Define a function to convert word values to integers\n",
        "def convert_to_int(word):\n",
        "    word_dict = {'one': 1, 'two': 2, 'three': 3, 'four': 4, 'five': 5, 'six': 6, 'seven': 7, 'eight': 8, 'nine': 9,\n",
        "                 'ten': 10, 'eleven': 11, 'twelve': 12, 'zero': 0, 0: 0}\n",
        "    return word_dict[word]\n"
      ],
      "metadata": {
        "id": "Uw6BYQHG4_Zs"
      },
      "execution_count": null,
      "outputs": []
    },
    {
      "cell_type": "code",
      "source": [],
      "metadata": {
        "id": "VbGuMvkJclyP"
      },
      "execution_count": null,
      "outputs": []
    },
    {
      "cell_type": "markdown",
      "source": [
        "**1.\tdef convert_to_int(word):** This line defines a new function named convert_to_int, which takes a single argument word.\n",
        "\n",
        "**2.\tword_dict:** This is a dictionary that maps word values to their corresponding integer representations. For example, the word 'one' maps to the integer 1, 'two' maps to 2, and so on. It also includes an entry for 'zero', which maps to 0.\n",
        "\n",
        "**3.\treturn word_dict[word]:** Inside the function, it looks up the input word in the word_dict dictionary and returns the corresponding integer value. If the input word is not found in the dictionary, it will raise a KeyError.\n",
        "\n",
        "**Overview:**\n",
        "\n",
        "The purpose of this function is to provide a mapping between word representations of numbers and their corresponding integer values. For example, if you pass the word 'three' as an argument to this function, it will return the integer 3. This function can be useful when you have data with numbers represented as words and need to convert them to numerical values for calculations or further processing.\n",
        "\n"
      ],
      "metadata": {
        "id": "Fp3_5Ljdcl9k"
      }
    },
    {
      "cell_type": "code",
      "source": [
        "word_dict = {'one': 1, 'two': 2, 'three': 3, 'four': 4, 'five': 5, 'six': 6, 'seven': 7, 'eight': 8, 'nine': 9,\n",
        "         \t'ten': 10, 'eleven': 11, 'twelve': 12, 'zero': 0, 0: 0}"
      ],
      "metadata": {
        "id": "qHbqxpvl50XI"
      },
      "execution_count": null,
      "outputs": []
    },
    {
      "cell_type": "code",
      "source": [],
      "metadata": {
        "id": "ePUTkf--cmyS"
      },
      "execution_count": null,
      "outputs": []
    },
    {
      "cell_type": "markdown",
      "source": [
        "The provided code defines a dictionary named word_dict that maps word values to their corresponding integer representations.\n",
        "\n",
        "**Here's a breakdown of the dictionary:**\n",
        "\n",
        "1.\t'one': 1: The word 'one' maps to the integer 1.\n",
        "2.\t'two': 2: The word 'two' maps to the integer 2.\n",
        "3.\t'three': 3: The word 'three' maps to the integer 3.\n",
        "4.\t'four': 4: The word 'four' maps to the integer 4.\n",
        "5.\t'five': 5: The word 'five' maps to the integer 5.\n",
        "6.\t'six': 6: The word 'six' maps to the integer 6.\n",
        "7.\t'seven': 7: The word 'seven' maps to the integer 7.\n",
        "8.\t'eight': 8: The word 'eight' maps to the integer 8.\n",
        "9.\t'nine': 9: The word 'nine' maps to the integer 9.\n",
        "10.\t'ten': 10: The word 'ten' maps to the integer 10.\n",
        "11.\t'eleven': 11: The word 'eleven' maps to the integer 11.\n",
        "12.\t'twelve': 12: The word 'twelve' maps to the integer 12.\n",
        "13.\t'zero': 0: The word 'zero' maps to the integer 0.\n",
        "14.\t0: 0: The integer 0 maps to itself, as it is included to handle the case when the input word is 'zero'.\n",
        "\n",
        "**Overview:**\n",
        "\n",
        "This dictionary is useful in the convert_to_int function mentioned earlier. It provides a mapping between word representations of numbers and their corresponding integer values. When a word is passed to the function, it can look up the word in this dictionary and return the corresponding integer value.\n",
        "\n"
      ],
      "metadata": {
        "id": "xL5wIBKycm6T"
      }
    },
    {
      "cell_type": "code",
      "source": [
        "# Select the relevant columns and convert 'experience' values to integers\n",
        "X = dataset.iloc[:, :3]\n",
        "X['experience'] = X['experience'].apply(lambda x: convert_to_int(x))\n"
      ],
      "metadata": {
        "id": "M_2MpbPF55RB"
      },
      "execution_count": null,
      "outputs": []
    },
    {
      "cell_type": "code",
      "source": [],
      "metadata": {
        "id": "RcGpkWnScom3"
      },
      "execution_count": null,
      "outputs": []
    },
    {
      "cell_type": "markdown",
      "source": [
        "**1.\tX = dataset.iloc[:, :3]:** It selects the first three columns of the DataFrame dataset and assigns them to a new DataFrame X. The columns selected are usually the features or independent variables used for prediction.\n",
        "\n",
        "**2.\tX['experience'] = X['experience'].apply(lambda x: convert_to_int(x)):** This line takes the 'experience' column from the DataFrame X and applies the convert_to_int function (defined earlier) to each value in the column. The apply method is used here to apply a function to each element of the column. The lambda x: convert_to_int(x) is a lambda function that takes an individual 'experience' value and converts it to its corresponding integer using the convert_to_int function. The result is then stored back in the 'experience' column of the DataFrame X, replacing the original word values with their integer representations.\n",
        "\n",
        "**Overview:**\n",
        "\n",
        "After executing this code, the DataFrame X will contain the relevant columns (usually the first three columns from the original dataset) with the 'experience' column converted to integers. This data can now be used for further analysis or machine learning modeling where numerical data is expected as input.\n",
        "\n"
      ],
      "metadata": {
        "id": "rEpiSxhfcowv"
      }
    },
    {
      "cell_type": "code",
      "source": [
        "# Select the target column\n",
        "y = dataset.iloc[:, -1]\n"
      ],
      "metadata": {
        "id": "KXWauKRg5-cw"
      },
      "execution_count": null,
      "outputs": []
    },
    {
      "cell_type": "code",
      "source": [],
      "metadata": {
        "id": "_ikmkCzWcpcx"
      },
      "execution_count": null,
      "outputs": []
    },
    {
      "cell_type": "markdown",
      "source": [
        "The provided code selects the target column from the DataFrame dataset and assigns it to a new variable y. Here's what the code does:\n",
        "\n",
        "**1.\ty = dataset.iloc[:, -1]:** This line uses the iloc indexer of pandas to select all rows and the last column of the DataFrame dataset. The iloc indexer allows selection based on integer-based positions. The -1 index refers to the last column of the DataFrame, which is commonly the target or dependent variable in a supervised learning task.\n",
        "\n",
        "**Overview:**\n",
        "\n",
        "After executing this code, the variable y will contain the target column from the original dataset. The target column typically contains the values that the machine learning model will try to predict or learn from the input features represented by DataFrame X. This separation of features (X) and target (y) is common when preparing data for machine learning tasks. The X and y can then be used to train and evaluate machine learning models.\n",
        "\n"
      ],
      "metadata": {
        "id": "OP5s_HSpcpmj"
      }
    },
    {
      "cell_type": "code",
      "source": [
        "# Create a Linear Regression model\n",
        "regressor = LinearRegression()\n",
        "\n",
        "# The provided code creates an instance of the LinearRegression model and assigns it to a variable named regressor."
      ],
      "metadata": {
        "id": "39epnuLp6Ehv"
      },
      "execution_count": null,
      "outputs": []
    },
    {
      "cell_type": "code",
      "source": [
        "# Fit the model with the training data\n",
        "regressor.fit(X, y)\n"
      ],
      "metadata": {
        "colab": {
          "base_uri": "https://localhost:8080/",
          "height": 75
        },
        "id": "NT0E9gtE6HX2",
        "outputId": "0d9049e8-2234-4e51-d25b-4af6b2ca39b3"
      },
      "execution_count": null,
      "outputs": [
        {
          "output_type": "execute_result",
          "data": {
            "text/plain": [
              "LinearRegression()"
            ],
            "text/html": [
              "<style>#sk-container-id-2 {color: black;background-color: white;}#sk-container-id-2 pre{padding: 0;}#sk-container-id-2 div.sk-toggleable {background-color: white;}#sk-container-id-2 label.sk-toggleable__label {cursor: pointer;display: block;width: 100%;margin-bottom: 0;padding: 0.3em;box-sizing: border-box;text-align: center;}#sk-container-id-2 label.sk-toggleable__label-arrow:before {content: \"▸\";float: left;margin-right: 0.25em;color: #696969;}#sk-container-id-2 label.sk-toggleable__label-arrow:hover:before {color: black;}#sk-container-id-2 div.sk-estimator:hover label.sk-toggleable__label-arrow:before {color: black;}#sk-container-id-2 div.sk-toggleable__content {max-height: 0;max-width: 0;overflow: hidden;text-align: left;background-color: #f0f8ff;}#sk-container-id-2 div.sk-toggleable__content pre {margin: 0.2em;color: black;border-radius: 0.25em;background-color: #f0f8ff;}#sk-container-id-2 input.sk-toggleable__control:checked~div.sk-toggleable__content {max-height: 200px;max-width: 100%;overflow: auto;}#sk-container-id-2 input.sk-toggleable__control:checked~label.sk-toggleable__label-arrow:before {content: \"▾\";}#sk-container-id-2 div.sk-estimator input.sk-toggleable__control:checked~label.sk-toggleable__label {background-color: #d4ebff;}#sk-container-id-2 div.sk-label input.sk-toggleable__control:checked~label.sk-toggleable__label {background-color: #d4ebff;}#sk-container-id-2 input.sk-hidden--visually {border: 0;clip: rect(1px 1px 1px 1px);clip: rect(1px, 1px, 1px, 1px);height: 1px;margin: -1px;overflow: hidden;padding: 0;position: absolute;width: 1px;}#sk-container-id-2 div.sk-estimator {font-family: monospace;background-color: #f0f8ff;border: 1px dotted black;border-radius: 0.25em;box-sizing: border-box;margin-bottom: 0.5em;}#sk-container-id-2 div.sk-estimator:hover {background-color: #d4ebff;}#sk-container-id-2 div.sk-parallel-item::after {content: \"\";width: 100%;border-bottom: 1px solid gray;flex-grow: 1;}#sk-container-id-2 div.sk-label:hover label.sk-toggleable__label {background-color: #d4ebff;}#sk-container-id-2 div.sk-serial::before {content: \"\";position: absolute;border-left: 1px solid gray;box-sizing: border-box;top: 0;bottom: 0;left: 50%;z-index: 0;}#sk-container-id-2 div.sk-serial {display: flex;flex-direction: column;align-items: center;background-color: white;padding-right: 0.2em;padding-left: 0.2em;position: relative;}#sk-container-id-2 div.sk-item {position: relative;z-index: 1;}#sk-container-id-2 div.sk-parallel {display: flex;align-items: stretch;justify-content: center;background-color: white;position: relative;}#sk-container-id-2 div.sk-item::before, #sk-container-id-2 div.sk-parallel-item::before {content: \"\";position: absolute;border-left: 1px solid gray;box-sizing: border-box;top: 0;bottom: 0;left: 50%;z-index: -1;}#sk-container-id-2 div.sk-parallel-item {display: flex;flex-direction: column;z-index: 1;position: relative;background-color: white;}#sk-container-id-2 div.sk-parallel-item:first-child::after {align-self: flex-end;width: 50%;}#sk-container-id-2 div.sk-parallel-item:last-child::after {align-self: flex-start;width: 50%;}#sk-container-id-2 div.sk-parallel-item:only-child::after {width: 0;}#sk-container-id-2 div.sk-dashed-wrapped {border: 1px dashed gray;margin: 0 0.4em 0.5em 0.4em;box-sizing: border-box;padding-bottom: 0.4em;background-color: white;}#sk-container-id-2 div.sk-label label {font-family: monospace;font-weight: bold;display: inline-block;line-height: 1.2em;}#sk-container-id-2 div.sk-label-container {text-align: center;}#sk-container-id-2 div.sk-container {/* jupyter's `normalize.less` sets `[hidden] { display: none; }` but bootstrap.min.css set `[hidden] { display: none !important; }` so we also need the `!important` here to be able to override the default hidden behavior on the sphinx rendered scikit-learn.org. See: https://github.com/scikit-learn/scikit-learn/issues/21755 */display: inline-block !important;position: relative;}#sk-container-id-2 div.sk-text-repr-fallback {display: none;}</style><div id=\"sk-container-id-2\" class=\"sk-top-container\"><div class=\"sk-text-repr-fallback\"><pre>LinearRegression()</pre><b>In a Jupyter environment, please rerun this cell to show the HTML representation or trust the notebook. <br />On GitHub, the HTML representation is unable to render, please try loading this page with nbviewer.org.</b></div><div class=\"sk-container\" hidden><div class=\"sk-item\"><div class=\"sk-estimator sk-toggleable\"><input class=\"sk-toggleable__control sk-hidden--visually\" id=\"sk-estimator-id-2\" type=\"checkbox\" checked><label for=\"sk-estimator-id-2\" class=\"sk-toggleable__label sk-toggleable__label-arrow\">LinearRegression</label><div class=\"sk-toggleable__content\"><pre>LinearRegression()</pre></div></div></div></div></div>"
            ]
          },
          "metadata": {},
          "execution_count": 25
        }
      ]
    },
    {
      "cell_type": "code",
      "source": [],
      "metadata": {
        "id": "GBVpKG9bcrfe"
      },
      "execution_count": null,
      "outputs": []
    },
    {
      "cell_type": "markdown",
      "source": [
        "**1.\tregressor:** This variable holds the instance of the LinearRegression model created earlier using LinearRegression().\n",
        "\n",
        "**2.\tfit(X, y):** The fit method is a common method in scikit-learn models used for training or fitting the model with the training data. In this case, X represents the training features (input data), and y represents the target variable (output data) that we want the model to learn and predict.\n",
        "\n",
        "**3.  By calling regressor.fit(X, y),** the Linear Regression model is trained on the provided training data X and y. During the training process, the model will adjust its internal parameters to find the best-fitting straight line that represents the relationship between the features in X and the target variable in y. Once the training is completed, the model will be ready to make predictions on new, unseen data.\n",
        "\n",
        "**Overview:**\n",
        "\n",
        "After this code is executed, the regressor variable will hold the trained Linear Regression model, and it can be used to make predictions on new data using the .predict() method provided by scikit-learn.\n",
        "\n"
      ],
      "metadata": {
        "id": "sGqlnELVcrpH"
      }
    },
    {
      "cell_type": "code",
      "source": [
        "# Save the trained model to a file\n",
        "pickle.dump(regressor, open('MultiLinear_Salary.pkl', 'wb'))\n"
      ],
      "metadata": {
        "id": "50g4jh336Joy"
      },
      "execution_count": null,
      "outputs": []
    },
    {
      "cell_type": "code",
      "source": [
        "# Load the saved model from the file\n",
        "loaded_model = pickle.load(open('MultiLinear_Salary.pkl', 'rb'))\n"
      ],
      "metadata": {
        "id": "0v9UyBcp6OqJ"
      },
      "execution_count": null,
      "outputs": []
    },
    {
      "cell_type": "code",
      "source": [],
      "metadata": {
        "id": "C5Bzbu7ygE4l"
      },
      "execution_count": null,
      "outputs": []
    },
    {
      "cell_type": "markdown",
      "source": [
        "**1.\tpickle:** This is the Python standard library module used for serializing and deserializing Python objects, including machine learning models.\n",
        "\n",
        "**2.\tpickle.dump(regressor, open('MultiLinear_Salary.pkl', 'wb')):** This line of code uses the pickle.dump() function to serialize and save the trained model (regressor) to a file named 'MultiLinear_Salary.pkl'.\n",
        "\n",
        "**•\tpickle.dump:** The pickle.dump() function is used to serialize the regressor object and save it to a file.\n",
        "\n",
        "**•\tregressor:** This is the trained Linear Regression model that we want to save.\n",
        "\n",
        "**•\topen('MultiLinear_Salary.pkl', 'wb'):** The open() function is used to open a file in binary write mode ('wb'). The file 'MultiLinear_Salary.pkl' will be created or overwritten if it already exists. The 'wb' mode is used because the pickle.dump() function expects a binary file to save the serialized data.\n",
        "\n",
        "**Overview:**\n",
        "\n",
        "After executing this code, the trained Linear Regression model (regressor) will be saved in a file named 'MultiLinear_Salary.pkl' in the current directory. This file can be later loaded using pickle.load() to reuse the trained model for making predictions on new data without having to retrain the model again."
      ],
      "metadata": {
        "id": "2Tmu8E2IgFA6"
      }
    },
    {
      "cell_type": "code",
      "source": [
        "!pip install colorama"
      ],
      "metadata": {
        "colab": {
          "base_uri": "https://localhost:8080/"
        },
        "id": "jzIUCI-F8ugd",
        "outputId": "67bbacff-a393-41ad-e9ad-197832061fe9"
      },
      "execution_count": null,
      "outputs": [
        {
          "output_type": "stream",
          "name": "stdout",
          "text": [
            "Collecting colorama\n",
            "  Downloading colorama-0.4.6-py2.py3-none-any.whl (25 kB)\n",
            "Installing collected packages: colorama\n",
            "Successfully installed colorama-0.4.6\n"
          ]
        }
      ]
    },
    {
      "cell_type": "code",
      "source": [
        "import joblib\n",
        "import colorama\n",
        "import warnings\n",
        "\n",
        "from IPython.display import HTML\n",
        "\n",
        "# Suppress warnings\n",
        "warnings.filterwarnings(\"ignore\")\n",
        "\n",
        "# Initialize colorama to handle colored text\n",
        "colorama.init()\n",
        "\n",
        "# Load the pre-trained model\n",
        "loaded_model = joblib.load('MultiLinear_Salary.pkl')\n",
        "\n",
        "# Ask user for inputs\n",
        "experience = float(input(\"Enter Experience | Eg: 2 \"))\n",
        "test_score = float(input(\"Enter Test Score | Eg: 9 \"))\n",
        "interview_score = float(input(\"Enter Interview Score | Eg: 6 \"))\n",
        "\n",
        "# Make prediction using the loaded model\n",
        "prediction = loaded_model.predict([[experience, test_score, interview_score]])\n",
        "\n",
        "# Print the results in bold\n",
        "#print(\"\\033[1mPredicted Salary (In Rupees):\\033[0m\", prediction[0])\n",
        "\n",
        "\n",
        "print(\"===============================================\")\n",
        "bold_text = \"<b>The predicted value from model:</b> \" + str(prediction[0])\n",
        "display(HTML(bold_text))\n",
        "print(\"===============================================\")\n"
      ],
      "metadata": {
        "colab": {
          "base_uri": "https://localhost:8080/",
          "height": 121
        },
        "id": "ixHb_zGn6bR8",
        "outputId": "3c7e1bad-86cf-4048-a43a-a27e24215fd5"
      },
      "execution_count": null,
      "outputs": [
        {
          "output_type": "stream",
          "name": "stdout",
          "text": [
            "Enter Experience | Eg: 2 2\n",
            "Enter Test Score | Eg: 9 9\n",
            "Enter Interview Score | Eg: 6 6\n",
            "===============================================\n"
          ]
        },
        {
          "output_type": "display_data",
          "data": {
            "text/plain": [
              "<IPython.core.display.HTML object>"
            ],
            "text/html": [
              "<b>The predicted value from model:</b> 53290.892559447646"
            ]
          },
          "metadata": {}
        },
        {
          "output_type": "stream",
          "name": "stdout",
          "text": [
            "===============================================\n"
          ]
        }
      ]
    },
    {
      "cell_type": "code",
      "source": [],
      "metadata": {
        "id": "TWmzZlOxY00w"
      },
      "execution_count": null,
      "outputs": []
    },
    {
      "cell_type": "markdown",
      "source": [
        "**1.\tImport Statements:**\n",
        "\n",
        "•\timport joblib: Used to load the pre-trained machine learning model from a file (Pickle format in this case).\n",
        "•\timport colorama: This library is used to handle colored text in the console.\n",
        "•\timport warnings: Used to suppress warning messages.\n",
        "•\tfrom IPython.display import HTML: Enables rendering HTML content, which we use to display text in bold.\n",
        "\n",
        "**2.\tInitialize Colorama:**\n",
        "\n",
        "•\tcolorama.init(): Initializes the Colorama library, allowing us to use colored text in the console.\n",
        "\n",
        "**3.\tLoad the Pre-trained Model:**\n",
        "\n",
        "•\tloaded_model = joblib.load('MultiLinear_Salary.pkl'): Loads the pre-trained machine learning model stored in the 'MultiLinear_Salary.pkl' file.\n",
        "\n",
        "**4.\tAsk User for Inputs:**\n",
        "\n",
        "•\tThe code prompts the user to enter three inputs: experience, test_score, and interview_score. The user is expected to provide numerical values representing the years of experience, test score, and interview score, respectively.\n",
        "\n",
        "**5.\tMake Prediction Using the Loaded Model:**\n",
        "\n",
        "•\tprediction = loaded_model.predict([[experience, test_score, interview_score]]): Uses the loaded model to predict the salary based on the input provided by the user. The prediction result is stored in the variable prediction.\n",
        "\n",
        "**6.\tDisplay the Result in Bold:**\n",
        "\n",
        "•\tThe code prepares a string bold_text that contains the prediction result. It wraps the result with HTML <b> tags to make it bold.\n",
        "•\tdisplay(HTML(bold_text)): Renders the bold_text with HTML tags, displaying the prediction result in bold in the Google Colab console.\n",
        "\n",
        "**7.\tAdditional Output Formatting:**\n",
        "\n",
        "•\tThe code also prints a series of equal signs before and after displaying the result to create a visual separator for better readability.\n",
        "\n",
        "**Overview:**\n",
        "\n",
        "In summary, this code loads a pre-trained machine learning model, takes user input for experience, test score, and interview score, predicts the salary using the model, and then displays the result in bold using HTML tags. The use of colorama enables colored text in the console, and warnings are suppressed to avoid displaying any warnings.\n",
        "\n"
      ],
      "metadata": {
        "id": "mbyMDQD-Y1Cm"
      }
    },
    {
      "cell_type": "code",
      "source": [],
      "metadata": {
        "id": "QulY4-ii6fVm"
      },
      "execution_count": null,
      "outputs": []
    },
    {
      "cell_type": "markdown",
      "source": [
        "**Points to load .pkl file from github repository:**\n",
        "\n",
        "1.You cannot directly use the URL in the open() function to access a file from GitHub. The open() function expects a local file path, not a URL.\n",
        "\n",
        "2.To load the .pkl file from GitHub into Google Colab, you can use the requests library to download the file and then load it using pickle."
      ],
      "metadata": {
        "id": "aSZyF5IEosj3"
      }
    },
    {
      "cell_type": "code",
      "source": [
        "import requests\n",
        "import pickle\n",
        "\n",
        "# Replace the URL with the raw URL of your .pkl file in GitHub\n",
        "url = 'https://raw.githubusercontent.com/9394113857/Dumped_Models/main/MultiLinear_Salary.pkl'\n",
        "\n",
        "# Download the .pkl file from GitHub\n",
        "response = requests.get(url)\n",
        "with open('MultiLinear_Salary.pkl', 'wb') as f:\n",
        "    f.write(response.content)\n",
        "\n",
        "# Load the model from the downloaded .pkl file\n",
        "with open('MultiLinear_Salary.pkl', 'rb') as f:\n",
        "    model = pickle.load(f)\n"
      ],
      "metadata": {
        "id": "1ISo3ipon7hl"
      },
      "execution_count": null,
      "outputs": []
    },
    {
      "cell_type": "code",
      "source": [
        "import joblib\n",
        "import colorama\n",
        "import warnings\n",
        "\n",
        "from IPython.display import HTML\n",
        "\n",
        "# Suppress warnings\n",
        "warnings.filterwarnings(\"ignore\")\n",
        "\n",
        "# Initialize colorama to handle colored text\n",
        "colorama.init()\n",
        "\n",
        "# Load the pre-trained model\n",
        "loaded_model = joblib.load('MultiLinear_Salary.pkl')\n",
        "\n",
        "# Ask user for inputs\n",
        "experience = float(input(\"Enter Experience | Eg: 2 \"))\n",
        "test_score = float(input(\"Enter Test Score | Eg: 9 \"))\n",
        "interview_score = float(input(\"Enter Interview Score | Eg: 6 \"))\n",
        "\n",
        "# Make prediction using the loaded model\n",
        "prediction = model.predict([[experience, test_score, interview_score]])\n",
        "\n",
        "# Print the results in bold\n",
        "#print(\"\\033[1mPredicted Salary (In Rupees):\\033[0m\", prediction[0])\n",
        "\n",
        "\n",
        "print(\"===============================================\")\n",
        "bold_text = \"<b>The predicted value from model:</b> \" + str(prediction[0])\n",
        "display(HTML(bold_text))\n",
        "print(\"===============================================\")\n"
      ],
      "metadata": {
        "colab": {
          "base_uri": "https://localhost:8080/",
          "height": 121
        },
        "id": "UzWvGMOQoStB",
        "outputId": "29d69c8f-2951-4cd0-c6c9-175e17286715"
      },
      "execution_count": null,
      "outputs": [
        {
          "output_type": "stream",
          "name": "stdout",
          "text": [
            "Enter Experience | Eg: 2 2\n",
            "Enter Test Score | Eg: 9 9\n",
            "Enter Interview Score | Eg: 6 6\n",
            "===============================================\n"
          ]
        },
        {
          "output_type": "display_data",
          "data": {
            "text/plain": [
              "<IPython.core.display.HTML object>"
            ],
            "text/html": [
              "<b>The predicted value from model:</b> 53290.892559447646"
            ]
          },
          "metadata": {}
        },
        {
          "output_type": "stream",
          "name": "stdout",
          "text": [
            "===============================================\n"
          ]
        }
      ]
    },
    {
      "cell_type": "code",
      "source": [],
      "metadata": {
        "id": "Glhg5jm2oYZx"
      },
      "execution_count": null,
      "outputs": []
    }
  ]
}