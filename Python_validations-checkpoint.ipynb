{
 "cells": [
  {
   "cell_type": "code",
   "execution_count": 2,
   "metadata": {
    "colab": {
     "base_uri": "https://localhost:8080/"
    },
    "id": "FCfnashA1MhK",
    "outputId": "6805adad-a202-40ea-ebc9-b418fb2ef320"
   },
   "outputs": [
    {
     "name": "stdin",
     "output_type": "stream",
     "text": [
      "Enter an email address:  raghu@gmail.com\n"
     ]
    },
    {
     "name": "stdout",
     "output_type": "stream",
     "text": [
      "Email is valid.\n"
     ]
    },
    {
     "name": "stdin",
     "output_type": "stream",
     "text": [
      "Enter a phone number (10 digits in Indian format):  1234567890\n"
     ]
    },
    {
     "name": "stdout",
     "output_type": "stream",
     "text": [
      "Phone number is valid.\n",
      "\n",
      "Final Results:\n",
      "Email: raghu@gmail.com\n",
      "Phone number: 1234567890\n"
     ]
    }
   ],
   "source": [
    "import re\n",
    "\n",
    "def validate_email(email):\n",
    "    pattern = r'^[\\w\\.-]+@[\\w\\.-]+\\.\\w+$'\n",
    "    return re.match(pattern, email) is not None\n",
    "\n",
    "def validate_phone(phone):\n",
    "    pattern = r'^\\d{10}$'  # Updated pattern for 10-digit Indian phone number\n",
    "    return re.match(pattern, phone) is not None\n",
    "\n",
    "email_valid = False\n",
    "phone_valid = False\n",
    "\n",
    "while not email_valid:\n",
    "    email = input(\"Enter an email address: \")\n",
    "    if validate_email(email):\n",
    "        email_valid = True\n",
    "        print(\"Email is valid.\")\n",
    "    else:\n",
    "        print(\"Email is invalid. Please try again.\")\n",
    "\n",
    "while not phone_valid:\n",
    "    phone = input(\"Enter a phone number (10 digits in Indian format): \")\n",
    "    if validate_phone(phone):\n",
    "        phone_valid = True\n",
    "        print(\"Phone number is valid.\")\n",
    "    else:\n",
    "        print(\"Phone number is invalid. Please try again.\")\n",
    "\n",
    "# Print the final results\n",
    "print(\"\\nFinal Results:\")\n",
    "print(\"Email:\", email)\n",
    "print(\"Phone number:\", phone)"
   ]
  },
  {
   "cell_type": "code",
   "execution_count": null,
   "metadata": {
    "id": "2hRSd6Pb1knA"
   },
   "outputs": [],
   "source": []
  },
  {
   "cell_type": "markdown",
   "metadata": {
    "id": "6rUHqpl41u5Y"
   },
   "source": [
    "1.\tThe code imports the re module, which provides support for working with regular expressions.\n",
    "2.\tThe function validate_email(email) is defined to validate an email address. It uses a regular expression pattern to check if the provided email argument matches the expected email format. The pattern allows one or more word characters (\\w), dots (.), and hyphens (-) before the '@' symbol, followed by one or more word characters, dots, and hyphens before the last part of the email, which should be a word character.\n",
    "3.\tThe function validate_phone(phone) is defined to validate a phone number in Indian format (10 digits). It uses a regular expression pattern to check if the provided phone argument contains exactly 10 digits (no spaces or other characters allowed).\n",
    "4.\tTwo boolean variables, email_valid and phone_valid, are initialized to False to keep track of whether the user-provided email and phone number are valid.\n",
    "5.\tThe program enters a while loop to validate the email address. It prompts the user to input an email address and checks if it's valid using the validate_email() function. If the email is valid, the email_valid flag is set to True, and a message indicating the validity is printed. Otherwise, the user is prompted to try again.\n",
    "6.\tOnce a valid email address is obtained, the program enters another while loop to validate the phone number. It prompts the user to input a phone number in Indian format (10 digits) and checks if it's valid using the validate_phone() function. If the phone number is valid, the phone_valid flag is set to True, and a message indicating the validity is printed. If not, the user is prompted to try again.\n",
    "7.\tAfter both the email address and phone number are successfully validated, the while loops end, and the final results are printed.\n",
    "8.\tThe final results display the user-provided email address and phone number.\n",
    "\n"
   ]
  },
  {
   "cell_type": "code",
   "execution_count": null,
   "metadata": {
    "id": "zyUcl3nh1vZX"
   },
   "outputs": [],
   "source": []
  }
 ],
 "metadata": {
  "colab": {
   "provenance": []
  },
  "kernelspec": {
   "display_name": "Python 3 (ipykernel)",
   "language": "python",
   "name": "python3"
  },
  "language_info": {
   "codemirror_mode": {
    "name": "ipython",
    "version": 3
   },
   "file_extension": ".py",
   "mimetype": "text/x-python",
   "name": "python",
   "nbconvert_exporter": "python",
   "pygments_lexer": "ipython3",
   "version": "3.10.2"
  }
 },
 "nbformat": 4,
 "nbformat_minor": 4
}
